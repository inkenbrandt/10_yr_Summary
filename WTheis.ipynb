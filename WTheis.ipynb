{
 "cells": [
  {
   "cell_type": "code",
   "execution_count": 1,
   "metadata": {
    "collapsed": false
   },
   "outputs": [],
   "source": [
    "\n",
    "import os\n",
    "import sys\n",
    "import platform\n",
    "import matplotlib\n",
    "\n",
    "import pandas as pd\n",
    "import numpy as np\n",
    "import matplotlib.pyplot as plt\n",
    "import matplotlib.dates as dates\n",
    "import matplotlib.ticker as tick\n",
    "from matplotlib.backends.backend_pdf import PdfPages\n",
    "from datetime import datetime,timedelta\n",
    "from pylab import rcParams\n",
    "rcParams['figure.figsize'] = 15, 10\n",
    "%matplotlib inline"
   ]
  },
  {
   "cell_type": "code",
   "execution_count": 2,
   "metadata": {
    "collapsed": false
   },
   "outputs": [],
   "source": [
    "# custom functions for transducer data import\n",
    "import Snake_Valley_Data_Import as svdi"
   ]
  },
  {
   "cell_type": "code",
   "execution_count": null,
   "metadata": {
    "collapsed": true
   },
   "outputs": [],
   "source": [
    "if not os.path.exists(checkFolder):\n",
    "    print('Creating Check Folder')\n",
    "    os.makedirs(checkFolder)\n",
    "else:\n",
    "    print('Check Folder Exists')"
   ]
  },
  {
   "cell_type": "code",
   "execution_count": null,
   "metadata": {
    "collapsed": true
   },
   "outputs": [],
   "source": [
    "def UDless(S,r,trans,time):\n",
    "    return (S*r**2)/(4*Trans*time)"
   ]
  },
  {
   "cell_type": "code",
   "execution_count": 10,
   "metadata": {
    "collapsed": true
   },
   "outputs": [],
   "source": [
    "def WTheis(u):\n",
    "    if u > 10:\n",
    "        wth = 0\n",
    "    elif u < 0.01:\n",
    "        wth = -0.577216 - np.log(u)\n",
    "    else:\n",
    "        wth = -0.577216 - np.log(u)\n",
    "    \n",
    "        delta = 1\n",
    "        I = 0\n",
    "        Fact = 1\n",
    "        while abs(delta) > 1E-99:\n",
    "            I = I + 1\n",
    "            Fact = Fact * I\n",
    "            delta = (-1) ** (I + 1) * u ** I / I / Fact\n",
    "            wth = wth + delta\n",
    "    return wth"
   ]
  },
  {
   "cell_type": "code",
   "execution_count": 15,
   "metadata": {
    "collapsed": false
   },
   "outputs": [
    {
     "data": {
      "text/plain": [
       "-1.6758282886681097"
      ]
     },
     "execution_count": 15,
     "metadata": {},
     "output_type": "execute_result"
    }
   ],
   "source": [
    "WTheis(3)"
   ]
  }
 ],
 "metadata": {
  "kernelspec": {
   "display_name": "Python 2",
   "language": "python",
   "name": "python2"
  },
  "language_info": {
   "codemirror_mode": {
    "name": "ipython",
    "version": 2
   },
   "file_extension": ".py",
   "mimetype": "text/x-python",
   "name": "python",
   "nbconvert_exporter": "python",
   "pygments_lexer": "ipython2",
   "version": "2.7.10"
  },
  "widgets": {
   "state": {},
   "version": "1.1.1"
  }
 },
 "nbformat": 4,
 "nbformat_minor": 0
}
