{
 "cells": [
  {
   "cell_type": "code",
   "execution_count": 1,
   "metadata": {
    "collapsed": true
   },
   "outputs": [],
   "source": [
    "import urllib2\n",
    "import xmltodict\n",
    "import pandas as pd\n",
    "from datetime import datetime \n",
    "from httplib import BadStatusLine\n",
    "import matplotlib.pyplot as plt\n",
    "import numpy as np\n",
    "import requests\n",
    "import wellapplication as wa\n",
    "%matplotlib inline"
   ]
  },
  {
   "cell_type": "code",
   "execution_count": 2,
   "metadata": {
    "collapsed": true
   },
   "outputs": [],
   "source": [
    "drive = 'E:'\n",
    "raw_archive_folder = drive + '/PROJECTS/Snake Valley Water/Transducer Data/Raw_data_archive'\n",
    "folder = raw_archive_folder + '/2016/2016 q2/'\n",
    "enteredFolder = folder + '/entered/'\n",
    "checkFolder = folder + '/toCheck/'\n",
    "wellinfofile = drive + raw_archive_folder + '/well table 2015-03-23.csv'"
   ]
  },
  {
   "cell_type": "code",
   "execution_count": 3,
   "metadata": {
    "collapsed": false
   },
   "outputs": [],
   "source": [
    "inputfile = \"E:/PROJECTS/Snake Valley Water/Transducer Data/Raw_data_archive/2016/2016 q2/ag13c 2016-08-02.xle\"\n",
    "manualwls = raw_archive_folder + '/All tape measurements.csv'\n",
    "manual = pd.read_csv(manualwls, index_col=\"DateTime\", engine=\"python\")\n",
    "barofile = raw_archive_folder + '/baro.csv'\n",
    "baro = pd.read_csv(barofile,index_col=0, parse_dates=True)\n",
    "wellinfo = pd.read_csv(folder + '/wellinfo4.csv')"
   ]
  },
  {
   "cell_type": "code",
   "execution_count": 14,
   "metadata": {
    "collapsed": false
   },
   "outputs": [
    {
     "name": "stdout",
     "output_type": "stream",
     "text": [
      "Well = ag13c\n",
      "Efficiency = 0.35\n",
      "Max Drift = 1.0855\n"
     ]
    }
   ],
   "source": [
    "g, drift, wellname = wa.imp_new_well(inputfile, wellinfo, manual, baro)"
   ]
  },
  {
   "cell_type": "code",
   "execution_count": 19,
   "metadata": {
    "collapsed": false
   },
   "outputs": [
    {
     "name": "stdout",
     "output_type": "stream",
     "text": [
      "                     Temperature    Level              name  deltaLevel  \\\n",
      "DateTime                                                                  \n",
      "2016-05-03 12:00:00       12.712  18.6353  ag13c 2016-08-02     -0.0080   \n",
      "2016-05-03 17:00:00       12.707  18.6251  ag13c 2016-08-02     -0.0099   \n",
      "2016-05-03 20:00:00       12.707  18.6137  ag13c 2016-08-02     -0.0088   \n",
      "2016-05-03 23:00:00       12.707  18.5989  ag13c 2016-08-02     -0.0108   \n",
      "2016-05-04 00:00:00       12.707  18.6042  ag13c 2016-08-02      0.0053   \n",
      "2016-05-04 03:00:00       12.707  18.6196  ag13c 2016-08-02      0.0067   \n",
      "2016-05-04 04:00:00       12.706  18.6099  ag13c 2016-08-02     -0.0097   \n",
      "2016-05-04 05:00:00       12.706  18.6039  ag13c 2016-08-02     -0.0060   \n",
      "2016-05-04 06:00:00       12.707  18.6117  ag13c 2016-08-02      0.0078   \n",
      "2016-05-04 07:00:00       12.706  18.6227  ag13c 2016-08-02      0.0110   \n",
      "2016-05-04 08:00:00       12.707  18.6143  ag13c 2016-08-02     -0.0084   \n",
      "2016-05-04 09:00:00       12.707  18.6078  ag13c 2016-08-02     -0.0065   \n",
      "2016-05-04 10:00:00       12.707  18.5997  ag13c 2016-08-02     -0.0081   \n",
      "2016-05-04 13:00:00       12.706  18.5904  ag13c 2016-08-02     -0.0066   \n",
      "2016-05-04 14:00:00       12.707  18.5962  ag13c 2016-08-02      0.0058   \n",
      "2016-05-04 15:00:00       12.706  18.5910  ag13c 2016-08-02     -0.0052   \n",
      "2016-05-04 16:00:00       12.705  18.5981  ag13c 2016-08-02      0.0071   \n",
      "2016-05-04 17:00:00       12.706  18.5830  ag13c 2016-08-02     -0.0151   \n",
      "2016-05-04 19:00:00       12.706  18.5729  ag13c 2016-08-02     -0.0098   \n",
      "2016-05-04 20:00:00       12.706  18.5559  ag13c 2016-08-02     -0.0170   \n",
      "2016-05-04 21:00:00       12.706  18.5438  ag13c 2016-08-02     -0.0121   \n",
      "2016-05-04 22:00:00       12.707  18.5329  ag13c 2016-08-02     -0.0109   \n",
      "2016-05-04 23:00:00       12.707  18.5183  ag13c 2016-08-02     -0.0146   \n",
      "2016-05-05 01:00:00       12.707  18.5070  ag13c 2016-08-02     -0.0068   \n",
      "2016-05-05 03:00:00       12.707  18.5010  ag13c 2016-08-02     -0.0058   \n",
      "2016-05-05 05:00:00       12.707  18.4887  ag13c 2016-08-02     -0.0089   \n",
      "2016-05-05 08:00:00       12.707  18.4796  ag13c 2016-08-02     -0.0089   \n",
      "2016-05-05 09:00:00       12.706  18.4691  ag13c 2016-08-02     -0.0105   \n",
      "2016-05-05 10:00:00       12.706  18.5088  ag13c 2016-08-02      0.0397   \n",
      "2016-05-05 12:00:00       12.706  18.5233  ag13c 2016-08-02      0.0152   \n",
      "...                          ...      ...               ...         ...   \n",
      "2016-08-01 02:00:00       12.686  13.3468  ag13c 2016-08-02     -0.0068   \n",
      "2016-08-01 03:00:00       12.686  13.3396  ag13c 2016-08-02     -0.0072   \n",
      "2016-08-01 04:00:00       12.686  13.3338  ag13c 2016-08-02     -0.0058   \n",
      "2016-08-01 05:00:00       12.687  13.3032  ag13c 2016-08-02     -0.0306   \n",
      "2016-08-01 06:00:00       12.687  13.2737  ag13c 2016-08-02     -0.0295   \n",
      "2016-08-01 07:00:00       12.686  13.2934  ag13c 2016-08-02      0.0197   \n",
      "2016-08-01 08:00:00       12.686  13.3129  ag13c 2016-08-02      0.0195   \n",
      "2016-08-01 09:00:00       12.686  13.3078  ag13c 2016-08-02     -0.0051   \n",
      "2016-08-01 10:00:00       12.686  13.2769  ag13c 2016-08-02     -0.0309   \n",
      "2016-08-01 11:00:00       12.687  13.2412  ag13c 2016-08-02     -0.0357   \n",
      "2016-08-01 12:00:00       12.687  13.1951  ag13c 2016-08-02     -0.0461   \n",
      "2016-08-01 13:00:00       12.686  13.1404  ag13c 2016-08-02     -0.0547   \n",
      "2016-08-01 14:00:00       12.687  13.0986  ag13c 2016-08-02     -0.0418   \n",
      "2016-08-01 15:00:00       12.686  13.0515  ag13c 2016-08-02     -0.0471   \n",
      "2016-08-01 16:00:00       12.687  13.0157  ag13c 2016-08-02     -0.0358   \n",
      "2016-08-01 17:00:00       12.686  12.9833  ag13c 2016-08-02     -0.0324   \n",
      "2016-08-01 18:00:00       12.686  12.9464  ag13c 2016-08-02     -0.0369   \n",
      "2016-08-01 19:00:00       12.687  12.9138  ag13c 2016-08-02     -0.0326   \n",
      "2016-08-01 20:00:00       12.686  12.8742  ag13c 2016-08-02     -0.0396   \n",
      "2016-08-01 21:00:00       12.687  12.8352  ag13c 2016-08-02     -0.0390   \n",
      "2016-08-01 22:00:00       12.687  12.8015  ag13c 2016-08-02     -0.0337   \n",
      "2016-08-01 23:00:00       12.687  12.7542  ag13c 2016-08-02     -0.0473   \n",
      "2016-08-02 00:00:00       12.686  12.7180  ag13c 2016-08-02     -0.0362   \n",
      "2016-08-02 01:00:00       12.686  12.6871  ag13c 2016-08-02     -0.0309   \n",
      "2016-08-02 02:00:00       12.687  12.6672  ag13c 2016-08-02     -0.0199   \n",
      "2016-08-02 03:00:00       12.686  12.6518  ag13c 2016-08-02     -0.0154   \n",
      "2016-08-02 04:00:00       12.686  12.6247  ag13c 2016-08-02     -0.0271   \n",
      "2016-08-02 05:00:00       12.686  12.5777  ag13c 2016-08-02     -0.0470   \n",
      "2016-08-02 06:00:00       12.686  12.5428  ag13c 2016-08-02     -0.0349   \n",
      "2016-08-02 09:00:00       12.686  12.5249  ag13c 2016-08-02     -0.0193   \n",
      "\n",
      "                      cumul  \n",
      "DateTime                     \n",
      "2016-05-03 12:00:00 -0.0080  \n",
      "2016-05-03 17:00:00 -0.0179  \n",
      "2016-05-03 20:00:00 -0.0267  \n",
      "2016-05-03 23:00:00 -0.0375  \n",
      "2016-05-04 00:00:00 -0.0322  \n",
      "2016-05-04 03:00:00 -0.0255  \n",
      "2016-05-04 04:00:00 -0.0352  \n",
      "2016-05-04 05:00:00 -0.0412  \n",
      "2016-05-04 06:00:00 -0.0334  \n",
      "2016-05-04 07:00:00 -0.0224  \n",
      "2016-05-04 08:00:00 -0.0308  \n",
      "2016-05-04 09:00:00 -0.0373  \n",
      "2016-05-04 10:00:00 -0.0454  \n",
      "2016-05-04 13:00:00 -0.0520  \n",
      "2016-05-04 14:00:00 -0.0462  \n",
      "2016-05-04 15:00:00 -0.0514  \n",
      "2016-05-04 16:00:00 -0.0443  \n",
      "2016-05-04 17:00:00 -0.0594  \n",
      "2016-05-04 19:00:00 -0.0692  \n",
      "2016-05-04 20:00:00 -0.0862  \n",
      "2016-05-04 21:00:00 -0.0983  \n",
      "2016-05-04 22:00:00 -0.1092  \n",
      "2016-05-04 23:00:00 -0.1238  \n",
      "2016-05-05 01:00:00 -0.1306  \n",
      "2016-05-05 03:00:00 -0.1364  \n",
      "2016-05-05 05:00:00 -0.1453  \n",
      "2016-05-05 08:00:00 -0.1542  \n",
      "2016-05-05 09:00:00 -0.1647  \n",
      "2016-05-05 10:00:00 -0.1250  \n",
      "2016-05-05 12:00:00 -0.1098  \n",
      "...                     ...  \n",
      "2016-08-01 02:00:00 -5.1304  \n",
      "2016-08-01 03:00:00 -5.1376  \n",
      "2016-08-01 04:00:00 -5.1434  \n",
      "2016-08-01 05:00:00 -5.1740  \n",
      "2016-08-01 06:00:00 -5.2035  \n",
      "2016-08-01 07:00:00 -5.1838  \n",
      "2016-08-01 08:00:00 -5.1643  \n",
      "2016-08-01 09:00:00 -5.1694  \n",
      "2016-08-01 10:00:00 -5.2003  \n",
      "2016-08-01 11:00:00 -5.2360  \n",
      "2016-08-01 12:00:00 -5.2821  \n",
      "2016-08-01 13:00:00 -5.3368  \n",
      "2016-08-01 14:00:00 -5.3786  \n",
      "2016-08-01 15:00:00 -5.4257  \n",
      "2016-08-01 16:00:00 -5.4615  \n",
      "2016-08-01 17:00:00 -5.4939  \n",
      "2016-08-01 18:00:00 -5.5308  \n",
      "2016-08-01 19:00:00 -5.5634  \n",
      "2016-08-01 20:00:00 -5.6030  \n",
      "2016-08-01 21:00:00 -5.6420  \n",
      "2016-08-01 22:00:00 -5.6757  \n",
      "2016-08-01 23:00:00 -5.7230  \n",
      "2016-08-02 00:00:00 -5.7592  \n",
      "2016-08-02 01:00:00 -5.7901  \n",
      "2016-08-02 02:00:00 -5.8100  \n",
      "2016-08-02 03:00:00 -5.8254  \n",
      "2016-08-02 04:00:00 -5.8525  \n",
      "2016-08-02 05:00:00 -5.8995  \n",
      "2016-08-02 06:00:00 -5.9344  \n",
      "2016-08-02 09:00:00 -5.9537  \n",
      "\n",
      "[1803 rows x 5 columns]\n"
     ]
    },
    {
     "data": {
      "text/plain": [
       "18.478599999999982"
      ]
     },
     "execution_count": 19,
     "metadata": {},
     "output_type": "execute_result"
    }
   ],
   "source": [
    "df = wa.new_xle_imp(inputfile)\n",
    "    \n",
    "jf = wa.jumpfix(df, 'Level', threashold=0.005)\n",
    "jf['newVal'][-1] > 10"
   ]
  },
  {
   "cell_type": "code",
   "execution_count": 12,
   "metadata": {
    "collapsed": false
   },
   "outputs": [
    {
     "name": "stderr",
     "output_type": "stream",
     "text": [
      "c:\\winpython-64bit-2.7.10.3\\python-2.7.10.amd64\\lib\\site-packages\\ipykernel\\__main__.py:4: SettingWithCopyWarning: \n",
      "A value is trying to be set on a copy of a slice from a DataFrame.\n",
      "Try using .loc[row_indexer,col_indexer] = value instead\n",
      "\n",
      "See the caveats in the documentation: http://pandas.pydata.org/pandas-docs/stable/indexing.html#indexing-view-versus-copy\n",
      "c:\\winpython-64bit-2.7.10.3\\python-2.7.10.amd64\\lib\\site-packages\\pandas\\core\\indexing.py:296: SettingWithCopyWarning: \n",
      "A value is trying to be set on a copy of a slice from a DataFrame.\n",
      "Try using .loc[row_indexer,col_indexer] = value instead\n",
      "\n",
      "See the caveats in the documentation: http://pandas.pydata.org/pandas-docs/stable/indexing.html#indexing-view-versus-copy\n",
      "  self.obj[key] = _infer_fill_value(value)\n",
      "c:\\winpython-64bit-2.7.10.3\\python-2.7.10.amd64\\lib\\site-packages\\pandas\\core\\indexing.py:476: SettingWithCopyWarning: \n",
      "A value is trying to be set on a copy of a slice from a DataFrame.\n",
      "Try using .loc[row_indexer,col_indexer] = value instead\n",
      "\n",
      "See the caveats in the documentation: http://pandas.pydata.org/pandas-docs/stable/indexing.html#indexing-view-versus-copy\n",
      "  self.obj[item] = s\n"
     ]
    },
    {
     "data": {
      "text/plain": [
       "True"
      ]
     },
     "execution_count": 12,
     "metadata": {},
     "output_type": "execute_result"
    }
   ],
   "source": [
    "xle = inputfile\n",
    "xle_df = wa.new_xle_imp(xle)\n",
    "manual35 = manual[manual['WellID']==35]\n",
    "manual35['dt'] = pd.to_datetime(manual35.index)\n",
    "manual_35 = manual35.reset_index()\n",
    "manual_35.set_index('dt',inplace=True)\n",
    "\n",
    "fd = wa.fix_drift(xle_df, manual_35, meas='Level', manmeas='MeasuredDTW', outcolname='DriftCorrection')\n",
    "'DriftCorrection' in list(fd[0].columns)\n"
   ]
  },
  {
   "cell_type": "code",
   "execution_count": 9,
   "metadata": {
    "collapsed": true
   },
   "outputs": [],
   "source": [
    "manual"
   ]
  },
  {
   "cell_type": "code",
   "execution_count": 10,
   "metadata": {
    "collapsed": false
   },
   "outputs": [
    {
     "ename": "KeyboardInterrupt",
     "evalue": "",
     "output_type": "error",
     "traceback": [
      "\u001b[0;31m---------------------------------------------------------------------------\u001b[0m",
      "\u001b[0;31mKeyboardInterrupt\u001b[0m                         Traceback (most recent call last)",
      "\u001b[0;32m<ipython-input-10-b0f551b1d340>\u001b[0m in \u001b[0;36m<module>\u001b[0;34m()\u001b[0m\n\u001b[0;32m----> 1\u001b[0;31m \u001b[0mtest_fix_drift\u001b[0m\u001b[1;33m(\u001b[0m\u001b[0mxle_df\u001b[0m\u001b[1;33m,\u001b[0m \u001b[0mmanual\u001b[0m\u001b[1;33m)\u001b[0m\u001b[1;33m\u001b[0m\u001b[0m\n\u001b[0m",
      "\u001b[0;32m<ipython-input-9-458384ffb970>\u001b[0m in \u001b[0;36mtest_fix_drift\u001b[0;34m(xle_df, manual)\u001b[0m\n\u001b[1;32m      1\u001b[0m \u001b[1;32mdef\u001b[0m \u001b[0mtest_fix_drift\u001b[0m\u001b[1;33m(\u001b[0m\u001b[0mxle_df\u001b[0m\u001b[1;33m,\u001b[0m \u001b[0mmanual\u001b[0m\u001b[1;33m)\u001b[0m\u001b[1;33m:\u001b[0m\u001b[1;33m\u001b[0m\u001b[0m\n\u001b[0;32m----> 2\u001b[0;31m     \u001b[0mfd\u001b[0m \u001b[1;33m=\u001b[0m \u001b[0mwa\u001b[0m\u001b[1;33m.\u001b[0m\u001b[0mfix_drift\u001b[0m\u001b[1;33m(\u001b[0m\u001b[0mxle_df\u001b[0m\u001b[1;33m,\u001b[0m \u001b[0mmanual\u001b[0m\u001b[1;33m,\u001b[0m \u001b[0mmeas\u001b[0m\u001b[1;33m=\u001b[0m\u001b[1;34m'Level'\u001b[0m\u001b[1;33m,\u001b[0m \u001b[0mmanmeas\u001b[0m\u001b[1;33m=\u001b[0m\u001b[1;34m'MeasuredDTW'\u001b[0m\u001b[1;33m,\u001b[0m \u001b[0moutcolname\u001b[0m\u001b[1;33m=\u001b[0m\u001b[1;34m'DriftCorrection'\u001b[0m\u001b[1;33m)\u001b[0m\u001b[1;33m\u001b[0m\u001b[0m\n\u001b[0m\u001b[1;32m      3\u001b[0m     \u001b[1;32massert\u001b[0m \u001b[1;34m'DriftCorrection'\u001b[0m \u001b[1;32min\u001b[0m \u001b[0mlist\u001b[0m\u001b[1;33m(\u001b[0m\u001b[0mfd\u001b[0m\u001b[1;33m[\u001b[0m\u001b[1;36m0\u001b[0m\u001b[1;33m]\u001b[0m\u001b[1;33m.\u001b[0m\u001b[0mcolumns\u001b[0m\u001b[1;33m)\u001b[0m\u001b[1;33m\u001b[0m\u001b[0m\n",
      "\u001b[0;32mc:\\winpython-64bit-2.7.10.3\\python-2.7.10.amd64\\lib\\site-packages\\wellapplication\\transport.pyc\u001b[0m in \u001b[0;36mfix_drift\u001b[0;34m(well, manualfile, meas, manmeas, outcolname)\u001b[0m\n\u001b[1;32m    116\u001b[0m \u001b[1;33m\u001b[0m\u001b[0m\n\u001b[1;32m    117\u001b[0m     \u001b[1;32mfor\u001b[0m \u001b[0mi\u001b[0m \u001b[1;32min\u001b[0m \u001b[0mrange\u001b[0m\u001b[1;33m(\u001b[0m\u001b[0mlen\u001b[0m\u001b[1;33m(\u001b[0m\u001b[0mmanualfile\u001b[0m\u001b[1;33m)\u001b[0m\u001b[1;33m)\u001b[0m\u001b[1;33m:\u001b[0m\u001b[1;33m\u001b[0m\u001b[0m\n\u001b[0;32m--> 118\u001b[0;31m         \u001b[0mbreakpoints\u001b[0m\u001b[1;33m.\u001b[0m\u001b[0mappend\u001b[0m\u001b[1;33m(\u001b[0m\u001b[0mfcl\u001b[0m\u001b[1;33m(\u001b[0m\u001b[0mwell\u001b[0m\u001b[1;33m,\u001b[0m \u001b[0mpd\u001b[0m\u001b[1;33m.\u001b[0m\u001b[0mto_datetime\u001b[0m\u001b[1;33m(\u001b[0m\u001b[0mmanualfile\u001b[0m\u001b[1;33m.\u001b[0m\u001b[0mindex\u001b[0m\u001b[1;33m)\u001b[0m\u001b[1;33m[\u001b[0m\u001b[0mi\u001b[0m\u001b[1;33m]\u001b[0m\u001b[1;33m)\u001b[0m\u001b[1;33m.\u001b[0m\u001b[0mname\u001b[0m\u001b[1;33m)\u001b[0m\u001b[1;33m\u001b[0m\u001b[0m\n\u001b[0m\u001b[1;32m    119\u001b[0m     \u001b[0mbreakpoints\u001b[0m \u001b[1;33m=\u001b[0m \u001b[0msorted\u001b[0m\u001b[1;33m(\u001b[0m\u001b[0mlist\u001b[0m\u001b[1;33m(\u001b[0m\u001b[0mset\u001b[0m\u001b[1;33m(\u001b[0m\u001b[0mbreakpoints\u001b[0m\u001b[1;33m)\u001b[0m\u001b[1;33m)\u001b[0m\u001b[1;33m)\u001b[0m\u001b[1;33m\u001b[0m\u001b[0m\n\u001b[1;32m    120\u001b[0m \u001b[1;33m\u001b[0m\u001b[0m\n",
      "\u001b[0;32mc:\\winpython-64bit-2.7.10.3\\python-2.7.10.amd64\\lib\\site-packages\\pandas\\util\\decorators.pyc\u001b[0m in \u001b[0;36mwrapper\u001b[0;34m(*args, **kwargs)\u001b[0m\n\u001b[1;32m     89\u001b[0m                 \u001b[1;32melse\u001b[0m\u001b[1;33m:\u001b[0m\u001b[1;33m\u001b[0m\u001b[0m\n\u001b[1;32m     90\u001b[0m                     \u001b[0mkwargs\u001b[0m\u001b[1;33m[\u001b[0m\u001b[0mnew_arg_name\u001b[0m\u001b[1;33m]\u001b[0m \u001b[1;33m=\u001b[0m \u001b[0mnew_arg_value\u001b[0m\u001b[1;33m\u001b[0m\u001b[0m\n\u001b[0;32m---> 91\u001b[0;31m             \u001b[1;32mreturn\u001b[0m \u001b[0mfunc\u001b[0m\u001b[1;33m(\u001b[0m\u001b[1;33m*\u001b[0m\u001b[0margs\u001b[0m\u001b[1;33m,\u001b[0m \u001b[1;33m**\u001b[0m\u001b[0mkwargs\u001b[0m\u001b[1;33m)\u001b[0m\u001b[1;33m\u001b[0m\u001b[0m\n\u001b[0m\u001b[1;32m     92\u001b[0m         \u001b[1;32mreturn\u001b[0m \u001b[0mwrapper\u001b[0m\u001b[1;33m\u001b[0m\u001b[0m\n\u001b[1;32m     93\u001b[0m     \u001b[1;32mreturn\u001b[0m \u001b[0m_deprecate_kwarg\u001b[0m\u001b[1;33m\u001b[0m\u001b[0m\n",
      "\u001b[0;32mc:\\winpython-64bit-2.7.10.3\\python-2.7.10.amd64\\lib\\site-packages\\pandas\\tseries\\tools.pyc\u001b[0m in \u001b[0;36mto_datetime\u001b[0;34m(arg, errors, dayfirst, yearfirst, utc, box, format, exact, coerce, unit, infer_datetime_format)\u001b[0m\n\u001b[1;32m    424\u001b[0m         \u001b[1;32mreturn\u001b[0m \u001b[0m_assemble_from_unit_mappings\u001b[0m\u001b[1;33m(\u001b[0m\u001b[0marg\u001b[0m\u001b[1;33m,\u001b[0m \u001b[0merrors\u001b[0m\u001b[1;33m=\u001b[0m\u001b[0merrors\u001b[0m\u001b[1;33m)\u001b[0m\u001b[1;33m\u001b[0m\u001b[0m\n\u001b[1;32m    425\u001b[0m     \u001b[1;32melif\u001b[0m \u001b[0misinstance\u001b[0m\u001b[1;33m(\u001b[0m\u001b[0marg\u001b[0m\u001b[1;33m,\u001b[0m \u001b[0mABCIndexClass\u001b[0m\u001b[1;33m)\u001b[0m\u001b[1;33m:\u001b[0m\u001b[1;33m\u001b[0m\u001b[0m\n\u001b[0;32m--> 426\u001b[0;31m         \u001b[1;32mreturn\u001b[0m \u001b[0m_convert_listlike\u001b[0m\u001b[1;33m(\u001b[0m\u001b[0marg\u001b[0m\u001b[1;33m,\u001b[0m \u001b[0mbox\u001b[0m\u001b[1;33m,\u001b[0m \u001b[0mformat\u001b[0m\u001b[1;33m,\u001b[0m \u001b[0mname\u001b[0m\u001b[1;33m=\u001b[0m\u001b[0marg\u001b[0m\u001b[1;33m.\u001b[0m\u001b[0mname\u001b[0m\u001b[1;33m)\u001b[0m\u001b[1;33m\u001b[0m\u001b[0m\n\u001b[0m\u001b[1;32m    427\u001b[0m     \u001b[1;32melif\u001b[0m \u001b[0mis_list_like\u001b[0m\u001b[1;33m(\u001b[0m\u001b[0marg\u001b[0m\u001b[1;33m)\u001b[0m\u001b[1;33m:\u001b[0m\u001b[1;33m\u001b[0m\u001b[0m\n\u001b[1;32m    428\u001b[0m         \u001b[1;32mreturn\u001b[0m \u001b[0m_convert_listlike\u001b[0m\u001b[1;33m(\u001b[0m\u001b[0marg\u001b[0m\u001b[1;33m,\u001b[0m \u001b[0mbox\u001b[0m\u001b[1;33m,\u001b[0m \u001b[0mformat\u001b[0m\u001b[1;33m)\u001b[0m\u001b[1;33m\u001b[0m\u001b[0m\n",
      "\u001b[0;32mc:\\winpython-64bit-2.7.10.3\\python-2.7.10.amd64\\lib\\site-packages\\pandas\\tseries\\tools.pyc\u001b[0m in \u001b[0;36m_convert_listlike\u001b[0;34m(arg, box, format, name, tz)\u001b[0m\n\u001b[1;32m    399\u001b[0m                     \u001b[0mdayfirst\u001b[0m\u001b[1;33m=\u001b[0m\u001b[0mdayfirst\u001b[0m\u001b[1;33m,\u001b[0m\u001b[1;33m\u001b[0m\u001b[0m\n\u001b[1;32m    400\u001b[0m                     \u001b[0myearfirst\u001b[0m\u001b[1;33m=\u001b[0m\u001b[0myearfirst\u001b[0m\u001b[1;33m,\u001b[0m\u001b[1;33m\u001b[0m\u001b[0m\n\u001b[0;32m--> 401\u001b[0;31m                     \u001b[0mrequire_iso8601\u001b[0m\u001b[1;33m=\u001b[0m\u001b[0mrequire_iso8601\u001b[0m\u001b[1;33m\u001b[0m\u001b[0m\n\u001b[0m\u001b[1;32m    402\u001b[0m                 )\n\u001b[1;32m    403\u001b[0m \u001b[1;33m\u001b[0m\u001b[0m\n",
      "\u001b[0;32mpandas\\tslib.pyx\u001b[0m in \u001b[0;36mpandas.tslib.array_to_datetime (pandas\\tslib.c:45739)\u001b[0;34m()\u001b[0m\n",
      "\u001b[0;32mpandas\\tslib.pyx\u001b[0m in \u001b[0;36mpandas.tslib.array_to_datetime (pandas\\tslib.c:43825)\u001b[0;34m()\u001b[0m\n",
      "\u001b[0;32mpandas\\tslib.pyx\u001b[0m in \u001b[0;36mpandas.tslib.parse_datetime_string (pandas\\tslib.c:34252)\u001b[0;34m()\u001b[0m\n",
      "\u001b[0;32mpandas\\tslib.pyx\u001b[0m in \u001b[0;36mpandas.tslib._parse_dateabbr_string (pandas\\tslib.c:36900)\u001b[0;34m()\u001b[0m\n",
      "\u001b[0;32mc:\\winpython-64bit-2.7.10.3\\python-2.7.10.amd64\\lib\\_strptime.pyc\u001b[0m in \u001b[0;36m_strptime\u001b[0;34m(data_string, format)\u001b[0m\n\u001b[1;32m    296\u001b[0m     \u001b[1;34m\"\"\"Return a time struct based on the input string and the format string.\"\"\"\u001b[0m\u001b[1;33m\u001b[0m\u001b[0m\n\u001b[1;32m    297\u001b[0m     \u001b[1;32mglobal\u001b[0m \u001b[0m_TimeRE_cache\u001b[0m\u001b[1;33m,\u001b[0m \u001b[0m_regex_cache\u001b[0m\u001b[1;33m\u001b[0m\u001b[0m\n\u001b[0;32m--> 298\u001b[0;31m     \u001b[1;32mwith\u001b[0m \u001b[0m_cache_lock\u001b[0m\u001b[1;33m:\u001b[0m\u001b[1;33m\u001b[0m\u001b[0m\n\u001b[0m\u001b[1;32m    299\u001b[0m         \u001b[1;32mif\u001b[0m \u001b[0m_getlang\u001b[0m\u001b[1;33m(\u001b[0m\u001b[1;33m)\u001b[0m \u001b[1;33m!=\u001b[0m \u001b[0m_TimeRE_cache\u001b[0m\u001b[1;33m.\u001b[0m\u001b[0mlocale_time\u001b[0m\u001b[1;33m.\u001b[0m\u001b[0mlang\u001b[0m\u001b[1;33m:\u001b[0m\u001b[1;33m\u001b[0m\u001b[0m\n\u001b[1;32m    300\u001b[0m             \u001b[0m_TimeRE_cache\u001b[0m \u001b[1;33m=\u001b[0m \u001b[0mTimeRE\u001b[0m\u001b[1;33m(\u001b[0m\u001b[1;33m)\u001b[0m\u001b[1;33m\u001b[0m\u001b[0m\n",
      "\u001b[0;31mKeyboardInterrupt\u001b[0m: "
     ]
    }
   ],
   "source": [
    "test_fix_drift(xle_df, manual)"
   ]
  },
  {
   "cell_type": "code",
   "execution_count": 21,
   "metadata": {
    "collapsed": true
   },
   "outputs": [],
   "source": [
    "well = wa.new_xle_imp(inputfile)"
   ]
  },
  {
   "cell_type": "code",
   "execution_count": 9,
   "metadata": {
    "collapsed": false
   },
   "outputs": [],
   "source": [
    "baro['Level'] = baro['pw03']"
   ]
  },
  {
   "cell_type": "code",
   "execution_count": 10,
   "metadata": {
    "collapsed": false
   },
   "outputs": [
    {
     "ename": "AttributeError",
     "evalue": "'module' object has no attribute 'well_baro_merge'",
     "output_type": "error",
     "traceback": [
      "\u001b[0;31m---------------------------------------------------------------------------\u001b[0m",
      "\u001b[0;31mAttributeError\u001b[0m                            Traceback (most recent call last)",
      "\u001b[0;32m<ipython-input-10-19d6546c88e9>\u001b[0m in \u001b[0;36m<module>\u001b[0;34m()\u001b[0m\n\u001b[0;32m----> 1\u001b[0;31m \u001b[0mwellbaro\u001b[0m \u001b[1;33m=\u001b[0m \u001b[0mwa\u001b[0m\u001b[1;33m.\u001b[0m\u001b[0mwell_baro_merge\u001b[0m\u001b[1;33m(\u001b[0m\u001b[0mwell\u001b[0m\u001b[1;33m,\u001b[0m \u001b[0mbaro\u001b[0m\u001b[1;33m)\u001b[0m\u001b[1;33m\u001b[0m\u001b[0m\n\u001b[0m",
      "\u001b[0;31mAttributeError\u001b[0m: 'module' object has no attribute 'well_baro_merge'"
     ]
    }
   ],
   "source": [
    "wellbaro = wa.well_baro_merge(well, baro)"
   ]
  },
  {
   "cell_type": "code",
   "execution_count": 22,
   "metadata": {
    "collapsed": false
   },
   "outputs": [
    {
     "data": {
      "text/plain": [
       "pandas.core.frame.DataFrame"
      ]
     },
     "execution_count": 22,
     "metadata": {},
     "output_type": "execute_result"
    }
   ],
   "source": [
    "type(well)"
   ]
  },
  {
   "cell_type": "code",
   "execution_count": 31,
   "metadata": {
    "collapsed": false,
    "scrolled": false
   },
   "outputs": [
    {
     "data": {
      "text/plain": [
       "<matplotlib.axes._subplots.AxesSubplot at 0x20e71be0>"
      ]
     },
     "execution_count": 31,
     "metadata": {},
     "output_type": "execute_result"
    },
    {
     "data": {
      "image/png": "[encoded data removed]",
      "text/plain": [
       "<matplotlib.figure.Figure at 0x24134b00>"
      ]
     },
     "metadata": {},
     "output_type": "display_data"
    }
   ],
   "source": [
    "wellbaro[['corrwl','Level']].plot()"
   ]
  },
  {
   "cell_type": "code",
   "execution_count": 20,
   "metadata": {
    "collapsed": false
   },
   "outputs": [],
   "source": [
    "def fix_drift(well, manualfile, meas= 'Level', manmeas =  'MeasuredDTW', outcolname = 'DriftCorrection'): \n",
    "    \"\"\"Remove transducer drift from nonvented transducer data.\n",
    "    Args:\n",
    "        well (pandas.core.frame.DataFrame):\n",
    "            Pandas DataFrame of merged water level and barometric data; index must be datetime\n",
    "        manualfile (pandas.core.frame.DataFrame):\n",
    "            Pandas DataFrame of manual measurements\n",
    "        meas (str):\n",
    "            name of column in well DataFrame containing transducer data to be corrected\n",
    "        manmeas (str):\n",
    "            name of column in manualfile Dataframe containing manual measurement data\n",
    "        outcolname (str):\n",
    "            name of column resulting from correction\n",
    "    Returns:\n",
    "        wellbarofixed (pandas.core.frame.DataFrame):\n",
    "            corrected water levels with bp removed\n",
    "        driftinfo (pandas.core.frame.DataFrame):\n",
    "            dataframe of correction parameters\n",
    "    \"\"\"\n",
    "    #breakpoints = self.get_breakpoints(wellbaro, manualfile)\n",
    "    breakpoints = []\n",
    "    \n",
    "    for i in range(len(manualfile)):\n",
    "        breakpoints.append(wa.fcl(wellbaro, pd.to_datetime(manualfile.index)[i]).name)\n",
    "    breakpoints = sorted(list(set(breakpoints)))\n",
    "\n",
    "    bracketedwls, drift_features = {},{}\n",
    "    dtnm = wellbaro.index.name\n",
    "    manualfile['julian'] = manualfile.index.to_julian_date()\n",
    "    \n",
    "    for i in range(len(breakpoints) - 1):\n",
    "        # Break up pandas dataframe time series into pieces based on timing of manual measurements\n",
    "        bracketedwls[i] = wellbaro.loc[(wellbaro.index.to_datetime() > breakpoints[i]) & (wellbaro.index.to_datetime() < breakpoints[i + 1])]\n",
    "\n",
    "        if len(bracketedwls[i]) > 0:\n",
    "            bracketedwls[i].loc[:, 'julian'] = bracketedwls[i].index.to_julian_date()\n",
    "            \n",
    "            last_trans = bracketedwls[i].ix[-1, meas] # last transducer measurment\n",
    "            first_trans = bracketedwls[i].ix[0, meas] # first transducer measurement\n",
    "            \n",
    "            last_man = wa.fcl(manualfile, breakpoints[i + 1]) # first manual measurment\n",
    "            first_man = wa.fcl(manualfile, breakpoints[i]) # last manual mesurement\n",
    "            \n",
    "            # intercept of line = value of first manual measurement\n",
    "            b = first_man[manmeas] - first_trans\n",
    "            # slope of line = change in difference between manual and transducer over time\n",
    "            m = ((last_man[manmeas] - last_trans) - (first_man[manmeas]-first_trans)) / (last_man['julian'] - first_man['julian'])\n",
    "            # datechange = amount of time between manual measurements\n",
    "            bracketedwls[i].loc[:, 'datechange'] = bracketedwls[i].ix[:, 'julian'] - bracketedwls[i].ix[0, 'julian']\n",
    "            \n",
    "            #bracketedwls[i].loc[:, 'wldiff'] = bracketedwls[i].loc[:, meas] - first_trans\n",
    "            bracketedwls[i].loc[:, outcolname] = bracketedwls[i][['datechange', meas]].apply(lambda x: x[1] + (m * x[0] + b), 1)\n",
    "            drift_features[i] = {'begining':first_man, 'end':last_man, 'intercept':b, 'slope':m,\n",
    "                                'first_meas':first_man[manmeas],'last_meas':last_man[manmeas]}\n",
    "        else:\n",
    "            pass\n",
    "    wellbarofixed = pd.concat(bracketedwls)\n",
    "    wellbarofixed.reset_index(inplace=True)\n",
    "    wellbarofixed.set_index(dtnm, inplace=True)\n",
    "    drift_info = pd.DataFrame(drift_features)\n",
    "    return wellbarofixed, drift_info"
   ]
  },
  {
   "cell_type": "code",
   "execution_count": 5,
   "metadata": {
    "collapsed": false
   },
   "outputs": [
    {
     "name": "stderr",
     "output_type": "stream",
     "text": [
      "c:\\winpython-64bit-2.7.10.3\\python-2.7.10.amd64\\lib\\site-packages\\ipykernel\\__main__.py:2: SettingWithCopyWarning: \n",
      "A value is trying to be set on a copy of a slice from a DataFrame.\n",
      "Try using .loc[row_indexer,col_indexer] = value instead\n",
      "\n",
      "See the caveats in the documentation: http://pandas.pydata.org/pandas-docs/stable/indexing.html#indexing-view-versus-copy\n",
      "  from ipykernel import kernelapp as app\n"
     ]
    }
   ],
   "source": [
    "manual35 = manual[manual['WellID']==35]\n",
    "manual35['dt'] = pd.to_datetime(manual35.index)\n",
    "manual_35 = manual35.reset_index()\n",
    "manual_35.set_index('dt',inplace=True)"
   ]
  },
  {
   "cell_type": "code",
   "execution_count": 21,
   "metadata": {
    "collapsed": false
   },
   "outputs": [],
   "source": [
    "fixed= fix_drift_slope(wellbaro, manual_35, 'Level')[0]"
   ]
  },
  {
   "cell_type": "code",
   "execution_count": 165,
   "metadata": {
    "collapsed": false
   },
   "outputs": [
    {
     "data": {
      "text/plain": [
       "[Timestamp('2016-05-03 10:00:00', freq='60T'),\n",
       " Timestamp('2016-08-02 09:00:00', freq='60T')]"
      ]
     },
     "execution_count": 165,
     "metadata": {},
     "output_type": "execute_result"
    }
   ],
   "source": [
    "fixed[2]"
   ]
  },
  {
   "cell_type": "code",
   "execution_count": 145,
   "metadata": {
    "collapsed": false
   },
   "outputs": [
    {
     "data": {
      "text/html": [
       "<div>\n",
       "<table border=\"1\" class=\"dataframe\">\n",
       "  <thead>\n",
       "    <tr style=\"text-align: right;\">\n",
       "      <th></th>\n",
       "      <th>level_0</th>\n",
       "      <th>Temperature</th>\n",
       "      <th>Level</th>\n",
       "      <th>name</th>\n",
       "      <th>pw03</th>\n",
       "      <th>pw10</th>\n",
       "      <th>pw19</th>\n",
       "      <th>integr</th>\n",
       "      <th>barometer</th>\n",
       "      <th>dbp</th>\n",
       "      <th>dwl</th>\n",
       "      <th>corrwl</th>\n",
       "    </tr>\n",
       "    <tr>\n",
       "      <th>DateTime</th>\n",
       "      <th></th>\n",
       "      <th></th>\n",
       "      <th></th>\n",
       "      <th></th>\n",
       "      <th></th>\n",
       "      <th></th>\n",
       "      <th></th>\n",
       "      <th></th>\n",
       "      <th></th>\n",
       "      <th></th>\n",
       "      <th></th>\n",
       "      <th></th>\n",
       "    </tr>\n",
       "  </thead>\n",
       "  <tbody>\n",
       "  </tbody>\n",
       "</table>\n",
       "</div>"
      ],
      "text/plain": [
       "Empty DataFrame\n",
       "Columns: [level_0, Temperature, Level, name, pw03, pw10, pw19, integr, barometer, dbp, dwl, corrwl]\n",
       "Index: []"
      ]
     },
     "execution_count": 145,
     "metadata": {},
     "output_type": "execute_result"
    }
   ],
   "source": [
    "fixed"
   ]
  },
  {
   "cell_type": "code",
   "execution_count": 22,
   "metadata": {
    "collapsed": false
   },
   "outputs": [
    {
     "data": {
      "text/plain": [
       "(736085.0, 736191.0)"
      ]
     },
     "execution_count": 22,
     "metadata": {},
     "output_type": "execute_result"
    },
    {
     "data": {
      "image/png": "[encoded data removed]",
      "text/plain": [
       "<matplotlib.figure.Figure at 0x212662b0>"
      ]
     },
     "metadata": {},
     "output_type": "display_data"
    }
   ],
   "source": [
    "x = fixed.index\n",
    "y = fixed['DriftCorrection']\n",
    "\n",
    "x1 = manual_35.index\n",
    "y1 = manual_35['MeasuredDTW']\n",
    "\n",
    "plt.figure()\n",
    "\n",
    "plt.plot(x,y)\n",
    "plt.scatter(x1,y1)\n",
    "plt.xlim('5/1/2016','8/15/2016')"
   ]
  },
  {
   "cell_type": "code",
   "execution_count": 43,
   "metadata": {
    "collapsed": true
   },
   "outputs": [],
   "source": [
    "wellbaro['dbp'] = wellbaro.barometer.diff()\n",
    "wellbaro['dwl'] = wellbaro.Level.diff()"
   ]
  },
  {
   "cell_type": "code",
   "execution_count": 49,
   "metadata": {
    "collapsed": false
   },
   "outputs": [],
   "source": [
    "wellbaro['dbp'] = wellbaro.barometer.diff()\n",
    "wellbaro['dwl'] = wellbaro.Level.diff()\n",
    "wellbaro['corrwl'] = wellbaro[['dbp','dwl']].apply(lambda x: x[1]-x[0],1).cumsum()\n"
   ]
  },
  {
   "cell_type": "code",
   "execution_count": 107,
   "metadata": {
    "collapsed": false
   },
   "outputs": [
    {
     "data": {
      "text/plain": [
       "<matplotlib.axes._subplots.AxesSubplot at 0x25066908>"
      ]
     },
     "execution_count": 107,
     "metadata": {},
     "output_type": "execute_result"
    },
    {
     "data": {
      "image/png": "[encoded data removed]",
      "text/plain": [
       "<matplotlib.figure.Figure at 0x24f9df60>"
      ]
     },
     "metadata": {},
     "output_type": "display_data"
    }
   ],
   "source": [
    "wellbaro['corrwl'].plot()"
   ]
  },
  {
   "cell_type": "code",
   "execution_count": 28,
   "metadata": {
    "collapsed": true
   },
   "outputs": [],
   "source": [
    "def well_baro_merge(wellfile, barofile, sampint=60):\n",
    "    \"\"\"Remove barometric pressure from nonvented transducers.\n",
    "    Args:\n",
    "        wellfile (pandas.core.frame.DataFrame):\n",
    "            Pandas DataFrame of water level data labeled 'Level'; index must be datetime\n",
    "        barofile (pandas.core.frame.DataFrame):\n",
    "            Pandas DataFrame barometric data labeled 'Level'; index must be datetime\n",
    "        sampint (int):\n",
    "            sampling interval in minutes; default 60\n",
    "\n",
    "    Returns:\n",
    "        wellbaro (Pandas DataFrame):\n",
    "           corrected water levels with bp removed\n",
    "    \"\"\"\n",
    "\n",
    "    # resample data to make sample interval consistent\n",
    "    baro = wa.hourly_resample(barofile, 0, sampint)\n",
    "    well = wa.hourly_resample(wellfile, 0, sampint)\n",
    "\n",
    "    # reassign `Level` to reduce ambiguity\n",
    "    if 'Level' in list(baro.columns):\n",
    "        baro= baro.rename(columns = {'Level':'barometer'})\n",
    "    # combine baro and well data for easy calculations, graphing, and manipulation\n",
    "    wellbaro = pd.merge(well, baro, left_index=True, right_index=True, how='inner')\n",
    "    \n",
    "    wellbaro['dbp'] = wellbaro.barometer.diff()\n",
    "    wellbaro['dwl'] = wellbaro.Level.diff()\n",
    "    first_well = wellbaro.Level[0]\n",
    "\n",
    "    wellbaro['corrwl'] = wellbaro[['dbp','dwl']].apply(lambda x: x[1]-x[0],1).cumsum()+first_well\n",
    "    \n",
    "    return wellbaro"
   ]
  },
  {
   "cell_type": "code",
   "execution_count": 12,
   "metadata": {
    "collapsed": true
   },
   "outputs": [],
   "source": [
    "def baro_drift_correct(wellfile, barofile, manualfile, sampint=60, wellelev=4800, stickup=0):\n",
    "    \"\"\"Remove barometric pressure and corrects drift.\n",
    "    Args:\n",
    "        wellfile (pandas.core.frame.DataFrame):\n",
    "            Pandas DataFrame of water level data labeled 'Level'; index must be datetime\n",
    "        barofile (pandas.core.frame.DataFrame):\n",
    "            Pandas DataFrame barometric data labeled 'Level'; index must be datetime\n",
    "        manualfile (pandas.core.frame.DataFrame):\n",
    "            Pandas DataFrame manual level data in the first column after the index; index must be datetime\n",
    "        sampint (int):\n",
    "            sampling interval in minutes; default 60\n",
    "        wellelev (int):\n",
    "            site ground surface elevation in feet\n",
    "        stickup (float):\n",
    "            offset of measure point from ground in feet\n",
    "\n",
    "    Returns:\n",
    "        wellbarofinal (Pandas DataFrame):\n",
    "           corrected water levels\n",
    "    \"\"\"\n",
    "    # Remove dangling ends\n",
    "    baroclean = dataendclean(barofile, 'Level')\n",
    "    wellclean = dataendclean(wellfile, 'Level')\n",
    "\n",
    "    # resample data to make sample interval consistent\n",
    "    baro = hourly_resample(baroclean, 0, sampint)\n",
    "    well = hourly_resample(wellclean, 0, sampint)\n",
    "\n",
    "    # reassign `Level` to reduce ambiguity\n",
    "    well['abs_feet_above_levelogger'] = well['Level']\n",
    "    baro['abs_feet_above_barologger'] = baro['Level']\n",
    "\n",
    "    # combine baro and well data for easy calculations, graphing, and manipulation\n",
    "    wellbaro = pd.merge(well, baro, left_index=True, right_index=True, how='inner')\n",
    "\n",
    "    # subtract barometric pressure from total pressure measured by transducer\n",
    "    wellbaro['adjusted_levelogger'] = wellbaro['abs_feet_above_levelogger'] - wellbaro['abs_feet_above_barologger']\n",
    "\n",
    "    breakpoints = []\n",
    "    for i in range(len(manualfile) + 1):\n",
    "        breakpoints.append(fcl(wellbaro, manualfile.index.to_datetime()[i - 1]).name)\n",
    "\n",
    "    last_man_wl, first_man_wl, last_tran_wl, driftlen = [], [], [], []\n",
    "    bracketedwls = {}\n",
    "    for i in range(len(manualfile) - 1):\n",
    "        # Break up time series into pieces based on timing of manual measurements\n",
    "        bracketedwls[i + 1] = wellbaro.loc[(wellbaro.index.to_datetime() > breakpoints[i + 1]) & (wellbaro.index.to_datetime() < breakpoints[i + 2])]\n",
    "        # get difference in transducer water measurements\n",
    "        bracketedwls[i + 1]['diff_wls'] = bracketedwls[i + 1]['abs_feet_above_levelogger'].diff()\n",
    "        # get difference of each depth to water from initial measurement\n",
    "        bracketedwls[i + 1].loc[:, 'DeltaLevel'] = bracketedwls[i + 1].loc[:, 'adjusted_levelogger'] - \\\n",
    "                                                   bracketedwls[i + 1].ix[0, 'adjusted_levelogger']\n",
    "        bracketedwls[i + 1].loc[:, 'MeasuredDTW'] = fcl(manualfile, breakpoints[i + 1])[0] - \\\n",
    "                                                    bracketedwls[i + 1].loc[:,'DeltaLevel']\n",
    "        last_man_wl.append(fcl(manualfile, breakpoints[i + 2])[0])\n",
    "        first_man_wl.append(fcl(manualfile, breakpoints[i + 1])[0])\n",
    "        last_tran_wl.append(\n",
    "            float(bracketedwls[i + 1].loc[max(bracketedwls[i + 1].index.to_datetime()), 'MeasuredDTW']))\n",
    "        driftlen.append(len(bracketedwls[i + 1].index))\n",
    "        bracketedwls[i + 1].loc[:, 'last_diff_int'] = np.round((last_tran_wl[i] - last_man_wl[i]), 4) / np.round(\n",
    "            driftlen[i] - 1.0, 4)\n",
    "        bracketedwls[i + 1].loc[:, 'DriftCorrection'] = np.round(\n",
    "            bracketedwls[i + 1].loc[:, 'last_diff_int'].cumsum() - bracketedwls[i + 1].loc[:, 'last_diff_int'], 4)\n",
    "\n",
    "    wellbarofixed = pd.concat(bracketedwls)\n",
    "    wellbarofixed.reset_index(inplace=True)\n",
    "    wellbarofixed.set_index('DateTime', inplace=True)\n",
    "    # Get Depth to water below casing\n",
    "    wellbarofixed.loc[:, 'DTWBelowCasing'] = wellbarofixed['MeasuredDTW'] - wellbarofixed['DriftCorrection']\n",
    "\n",
    "    # subtract casing height from depth to water below casing\n",
    "    wellbarofixed.loc[:, 'DTWBelowGroundSurface'] = wellbarofixed.loc[:,\n",
    "                                                    'DTWBelowCasing'] - stickup  # well riser height\n",
    "\n",
    "    # subtract depth to water below ground surface from well surface elevation\n",
    "    wellbarofixed.loc[:, 'WaterElevation'] = wellelev - wellbarofixed.loc[:, 'DTWBelowGroundSurface']\n",
    "\n",
    "    wellbarofinal = smoother(wellbarofixed, 'WaterElevation')\n",
    "\n",
    "    return wellbarofinal"
   ]
  }
 ],
 "metadata": {
  "kernelspec": {
   "display_name": "Python 2",
   "language": "python",
   "name": "python2"
  },
  "language_info": {
   "codemirror_mode": {
    "name": "ipython",
    "version": 2
   },
   "file_extension": ".py",
   "mimetype": "text/x-python",
   "name": "python",
   "nbconvert_exporter": "python",
   "pygments_lexer": "ipython2",
   "version": "2.7.10"
  }
 },
 "nbformat": 4,
 "nbformat_minor": 1
}
