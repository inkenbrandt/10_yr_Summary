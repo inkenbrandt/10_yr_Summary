{
 "cells": [
  {
   "cell_type": "code",
   "execution_count": 1,
   "metadata": {
    "collapsed": true
   },
   "outputs": [],
   "source": [
    "#%matplotlib inline\n",
    "import pandas as pd\n",
    "import platform\n",
    "import sys\n",
    "import numpy as np\n",
    "from datetime import datetime, date, timedelta\n",
    "import matplotlib.pyplot as plt\n",
    "from matplotlib.backends.backend_pdf import PdfPages\n",
    "import matplotlib\n",
    "#from pylab import rcParams\n",
    "#rcParams['figure.figsize'] = 15, 10"
   ]
  },
  {
   "cell_type": "code",
   "execution_count": 2,
   "metadata": {
    "collapsed": true
   },
   "outputs": [],
   "source": [
    "import wellapplication as wa"
   ]
  },
  {
   "cell_type": "code",
   "execution_count": 3,
   "metadata": {
    "collapsed": false
   },
   "outputs": [
    {
     "name": "stdout",
     "output_type": "stream",
     "text": [
      "Operating System Windows 7\n",
      "Python Version 2.7.8 (default, Jun 30 2014, 16:03:49) [MSC v.1500 32 bit (Intel)]\n",
      "Pandas Version 0.17.1\n",
      "Numpy Version 1.10.4\n",
      "Matplotlib Version 1.5.1\n",
      "Well Application Version 0.2.5\n"
     ]
    }
   ],
   "source": [
    "print(\"Operating System \" + platform.system() + \" \" + platform.release())\n",
    "print(\"Python Version \" + str(sys.version))\n",
    "print(\"Pandas Version \" + str(pd.__version__))\n",
    "print(\"Numpy Version \" + str(np.__version__))\n",
    "print(\"Matplotlib Version \" + str(matplotlib.__version__))\n",
    "print(\"Well Application Version \" + str(wa.__version__))"
   ]
  },
  {
   "cell_type": "markdown",
   "metadata": {},
   "source": [
    "Call `usgs` class of `wellapplication`"
   ]
  },
  {
   "cell_type": "code",
   "execution_count": 4,
   "metadata": {
    "collapsed": true
   },
   "outputs": [],
   "source": [
    "USGS = wa.usgs()"
   ]
  },
  {
   "cell_type": "markdown",
   "metadata": {},
   "source": [
    "Set working environment."
   ]
  },
  {
   "cell_type": "code",
   "execution_count": null,
   "metadata": {
    "collapsed": true
   },
   "outputs": [],
   "source": [
    "rootlocal = 'E:/GIS/'"
   ]
  },
  {
   "cell_type": "markdown",
   "metadata": {},
   "source": [
    "Read in data prepared by ArcGIS."
   ]
  },
  {
   "cell_type": "code",
   "execution_count": 5,
   "metadata": {
    "collapsed": false
   },
   "outputs": [],
   "source": [
    "matchedStations = pd.read_csv(rootlocal + \"USGS_WL_WELLS_HUCS.txt\")"
   ]
  },
  {
   "cell_type": "markdown",
   "metadata": {},
   "source": [
    "Show columns in imported column."
   ]
  },
  {
   "cell_type": "code",
   "execution_count": 6,
   "metadata": {
    "collapsed": false
   },
   "outputs": [
    {
     "data": {
      "text/plain": [
       "Index([u'OBJECTID', u'Join_Count', u'TARGET_FID', u'agency_cd', u'station_nm',\n",
       "       u'site_tp_cd', u'dec_lat_va', u'dec_long_va', u'coord_acy_cd',\n",
       "       u'dec_coord_datum_cd', u'alt_va', u'alt_acy_va', u'alt_datum_cd',\n",
       "       u'huc_cd', u'UTM_X', u'UTM_Y', u'site_no', u'TNMID', u'GNIS_ID',\n",
       "       u'AreaAcres', u'AreaSqKm', u'HUC12', u'Name', u'ToHUC',\n",
       "       u'NonContributingAcres', u'NonContributingSqKm', u'HUC10', u'HUC8',\n",
       "       u'GWArea'],\n",
       "      dtype='object')"
      ]
     },
     "execution_count": 6,
     "metadata": {},
     "output_type": "execute_result"
    }
   ],
   "source": [
    "matchedStations.columns"
   ]
  },
  {
   "cell_type": "markdown",
   "metadata": {},
   "source": [
    "Get list of stations for each groundwater area."
   ]
  },
  {
   "cell_type": "code",
   "execution_count": 7,
   "metadata": {
    "collapsed": false
   },
   "outputs": [],
   "source": [
    "stationLists = matchedStations.groupby(['GWArea'])['site_no'].unique()"
   ]
  },
  {
   "cell_type": "markdown",
   "metadata": {},
   "source": [
    "Create dictionary matching HUC names to HUC 8 codes."
   ]
  },
  {
   "cell_type": "code",
   "execution_count": 9,
   "metadata": {
    "collapsed": false
   },
   "outputs": [],
   "source": [
    "nameit = pd.Series(matchedStations.Name.values, index = matchedStations.HUC8).to_dict()"
   ]
  },
  {
   "cell_type": "markdown",
   "metadata": {},
   "source": [
    "Generate site and data files from HUC 8 in list."
   ]
  },
  {
   "cell_type": "code",
   "execution_count": null,
   "metadata": {
    "collapsed": false
   },
   "outputs": [],
   "source": [
    "sites = {}\n",
    "data = {}\n",
    "\n",
    "areaList = list(matchedStations.HUC8.unique())[1:]\n",
    "\n",
    "for area in areaList:\n",
    "    try:\n",
    "        sites[area] = USGS.getStationInfoFromHUC(area)\n",
    "        data[area] = USGS.getWLfromHUC(area)\n",
    "        print area\n",
    "    except:\n",
    "        print(\"no data for \" + str(area))\n",
    "        pass"
   ]
  },
  {
   "cell_type": "markdown",
   "metadata": {},
   "source": [
    "Combine dictionaries into a complete data and stations file."
   ]
  },
  {
   "cell_type": "code",
   "execution_count": null,
   "metadata": {
    "collapsed": true
   },
   "outputs": [],
   "source": [
    "allsites = pd.concat(sites)\n",
    "alldata = pd.concat(data)"
   ]
  },
  {
   "cell_type": "markdown",
   "metadata": {},
   "source": [
    "Save files as csv files and an excel file."
   ]
  },
  {
   "cell_type": "code",
   "execution_count": null,
   "metadata": {
    "collapsed": true
   },
   "outputs": [],
   "source": [
    "allsites.to_csv(rootlocal + 'USGSSites.csv')\n",
    "alldata.to_csv(rootlocal + 'USGSData.csv')"
   ]
  },
  {
   "cell_type": "code",
   "execution_count": null,
   "metadata": {
    "collapsed": true
   },
   "outputs": [],
   "source": [
    "writer = ExcelWriter(rootlocal + 'USGS_WL_UT.xlsx')\n",
    "allsites.to_excel(writer,'sites')\n",
    "alldata.to_excel(writer,'data')\n",
    "writer.save()"
   ]
  },
  {
   "cell_type": "markdown",
   "metadata": {},
   "source": [
    "Generate and save plots to a pdf file. Skip error files."
   ]
  },
  {
   "cell_type": "code",
   "execution_count": null,
   "metadata": {
    "collapsed": false
   },
   "outputs": [],
   "source": [
    "pdf_pages = PdfPages(rootlocal + 'HydrographSummary.pdf')\n",
    "\n",
    "for area in areaList:\n",
    "    try:\n",
    "        plots = USGS.HUCplot(sites[area],data[area]) \n",
    "        fig = plots[0]\n",
    "        fig.suptitle(str(area) + \" = \" + nameit[area])\n",
    "        pdf_pages.savefig(fig)\n",
    "        plt.close(fig)\n",
    "        fig2 = plots[1]\n",
    "        fig2.suptitle(str(area) + \" = \" + nameit[area])\n",
    "        pdf_pages.savefig(fig2)\n",
    "        plt.close(fig2)\n",
    "        print(str(area) + \" = \" + nameit[area])\n",
    "    except:\n",
    "        print(\"no plot for \" + str(area) + \" = \" + str(nameit[area]))\n",
    "        pass\n",
    "        \n",
    "\n",
    "# Write the PDF document to the disk\n",
    "pdf_pages.close()"
   ]
  },
  {
   "cell_type": "code",
   "execution_count": null,
   "metadata": {
    "collapsed": false
   },
   "outputs": [],
   "source": [
    "area = 16020302\n",
    "pdf_pages = PdfPages(rootlocal + 'E:/GIS/HydrographSummarySingle.pdf')\n",
    "plots = USGS.HUCplot(sites[area],data[area]) \n",
    "fig = plots[0]\n",
    "fig.suptitle(str(area) + \" = \" + nameit[area])\n",
    "pdf_pages.savefig(fig)\n",
    "plt.close(fig)\n",
    "fig2 = plots[1]\n",
    "fig2.suptitle(str(area) + \" = \" + nameit[area])\n",
    "pdf_pages.savefig(fig2)\n",
    "plt.close(fig2)\n",
    "print(str(area) + \" = \" + nameit[area])\n",
    "pdf_pages.close()"
   ]
  }
 ],
 "metadata": {
  "kernelspec": {
   "display_name": "Python 2",
   "language": "python",
   "name": "python2"
  },
  "language_info": {
   "codemirror_mode": {
    "name": "ipython",
    "version": 2
   },
   "file_extension": ".py",
   "mimetype": "text/x-python",
   "name": "python",
   "nbconvert_exporter": "python",
   "pygments_lexer": "ipython2",
   "version": "2.7.8"
  }
 },
 "nbformat": 4,
 "nbformat_minor": 0
}
