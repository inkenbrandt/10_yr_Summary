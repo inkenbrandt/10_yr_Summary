{
 "cells": [
  {
   "cell_type": "code",
   "execution_count": 1,
   "metadata": {
    "collapsed": true
   },
   "outputs": [],
   "source": [
    "import pandas as pd\n",
    "import arcpy\n",
    "import os\n",
    "import sys\n",
    "import numpy as np\n",
    "arcpy.env.overwriteOutput = True"
   ]
  },
  {
   "cell_type": "code",
   "execution_count": 2,
   "metadata": {
    "collapsed": true
   },
   "outputs": [],
   "source": [
    "xlfile = \"H:/GWP/Wetland/WaterMonitoring/PiezometerData/PiezometersCorrected_2015_1.xlsx\""
   ]
  },
  {
   "cell_type": "code",
   "execution_count": 3,
   "metadata": {},
   "outputs": [],
   "source": [
    "xl = pd.ExcelFile(xlfile)"
   ]
  },
  {
   "cell_type": "code",
   "execution_count": 4,
   "metadata": {
    "collapsed": true
   },
   "outputs": [],
   "source": [
    "sde_conn = \"C:/Users/{:}/AppData/Roaming/ESRI/Desktop10.5/ArcCatalog/UGS_SDE.sde\".format(os.environ.get('USERNAME'))\n",
    "arcpy.env.workspace = sde_conn"
   ]
  },
  {
   "cell_type": "code",
   "execution_count": 5,
   "metadata": {
    "collapsed": true
   },
   "outputs": [],
   "source": [
    "def add_data(df):\n",
    "    gw_reading_table=\"UGGP.UGGPADMIN.UGS_GW_reading\"\n",
    "    \n",
    "    read_descr = arcpy.Describe(gw_reading_table)\n",
    "    fieldnames = []\n",
    "    for field in read_descr.fields:\n",
    "        fieldnames.append(field.name)\n",
    "    fieldnames.remove('OBJECTID')\n",
    "    fieldnames.remove('DELTALEVEL')\n",
    "    table_names = df.columns\n",
    "    \n",
    "    for name in fieldnames:\n",
    "        if name not in table_names:\n",
    "            fieldnames.remove(name)\n",
    "\n",
    "            \n",
    "    if len(fieldnames) > 0:\n",
    "        subset = df[fieldnames]\n",
    "        rowlist = subset.values.tolist()\n",
    "\n",
    "        arcpy.env.overwriteOutput = True\n",
    "        edit = arcpy.da.Editor(arcpy.env.workspace)\n",
    "        edit.startEditing(False, False)\n",
    "        edit.startOperation()\n",
    "\n",
    "        cursor = arcpy.da.InsertCursor(gw_reading_table, fieldnames)\n",
    "        for j in range(len(rowlist)):\n",
    "            cursor.insertRow(rowlist[j])\n",
    "\n",
    "        del cursor\n",
    "        edit.stopOperation()\n",
    "        edit.stopEditing(True)\n",
    "        print('Well {:} imported!'.format(df['LOCATIONID'].values[-1]))\n",
    "    else:\n",
    "        print('No data imported!')"
   ]
  },
  {
   "cell_type": "code",
   "execution_count": 6,
   "metadata": {},
   "outputs": [
    {
     "data": {
      "text/plain": [
       "['Combined',\n",
       " 'LastEntryCompile',\n",
       " 'Metadata',\n",
       " 'FieldData',\n",
       " 'PreviousDownloadLastLine',\n",
       " 'BARO1',\n",
       " 'BARO2',\n",
       " 'BARO3',\n",
       " 'BARO14',\n",
       " '1001',\n",
       " '1002',\n",
       " '1003',\n",
       " '1004',\n",
       " '1005',\n",
       " '1006',\n",
       " '1007',\n",
       " '1008',\n",
       " '1009',\n",
       " '1010',\n",
       " '1011',\n",
       " '1012',\n",
       " '1013',\n",
       " '1014',\n",
       " '1015',\n",
       " '1016',\n",
       " '1018',\n",
       " '1019',\n",
       " '1020',\n",
       " '1021',\n",
       " '1022',\n",
       " '1023',\n",
       " '1024',\n",
       " '1025',\n",
       " '1026',\n",
       " '1028',\n",
       " '1029',\n",
       " '1030',\n",
       " '1031',\n",
       " '1033',\n",
       " '1035',\n",
       " '1036',\n",
       " '1037',\n",
       " '1038',\n",
       " '1039',\n",
       " '1040',\n",
       " '1041',\n",
       " '1042',\n",
       " '1043',\n",
       " '1044',\n",
       " '1045',\n",
       " '1046',\n",
       " '1047',\n",
       " '1049',\n",
       " '1051',\n",
       " '1052',\n",
       " '1053',\n",
       " '1054',\n",
       " '1055',\n",
       " '1056',\n",
       " '1057',\n",
       " '1060',\n",
       " '1063',\n",
       " '1065',\n",
       " '1067',\n",
       " '1068',\n",
       " '1069',\n",
       " '1070',\n",
       " '1072',\n",
       " '1073',\n",
       " '1075',\n",
       " '1076',\n",
       " '1077',\n",
       " '1078',\n",
       " '1079',\n",
       " '1080',\n",
       " '1081',\n",
       " '1090',\n",
       " '1091',\n",
       " '1092',\n",
       " '1093',\n",
       " '1094',\n",
       " '1095',\n",
       " '1096',\n",
       " '1097',\n",
       " '1098',\n",
       " '2001',\n",
       " '2002',\n",
       " '2003',\n",
       " '3001',\n",
       " '3002',\n",
       " '3003']"
      ]
     },
     "execution_count": 6,
     "metadata": {},
     "output_type": "execute_result"
    }
   ],
   "source": [
    "xl.sheet_names"
   ]
  },
  {
   "cell_type": "code",
   "execution_count": 7,
   "metadata": {},
   "outputs": [
    {
     "name": "stdout",
     "output_type": "stream",
     "text": [
      "Well 1001 imported!\n",
      "Well 1002 imported!\n",
      "Well 1003 imported!\n",
      "Well 1004 imported!\n",
      "Well 1005 drift too high\n",
      "Well 1006 imported!\n",
      "Well 1007 imported!\n",
      "Well 1008 imported!\n",
      "Well 1009 imported!\n",
      "Well 1010 imported!\n",
      "Well 1011 imported!\n",
      "Well 1012 imported!\n",
      "Well 1013 imported!\n",
      "Well 1014 imported!\n",
      "Well 1015 imported!\n",
      "Well 1016 imported!\n",
      "Well 1018 imported!\n",
      "Well 1019 imported!\n",
      "Well 1020 imported!\n",
      "Well 1021 imported!\n",
      "Well 1022 imported!\n",
      "Well 1023 imported!\n",
      "Well 1024 imported!\n",
      "Well 1025 imported!\n",
      "Well 1026 imported!\n",
      "Well 1028 imported!\n",
      "Well 1029 imported!\n",
      "Well 1030 imported!\n",
      "Well 1031 imported!\n"
     ]
    },
    {
     "ename": "TypeError",
     "evalue": "unorderable types: str() < float()",
     "output_type": "error",
     "traceback": [
      "\u001b[1;31m---------------------------------------------------------------------------\u001b[0m",
      "\u001b[1;31mTypeError\u001b[0m                                 Traceback (most recent call last)",
      "\u001b[1;32m<ipython-input-7-2aef4b45af1d>\u001b[0m in \u001b[0;36m<module>\u001b[1;34m()\u001b[0m\n\u001b[0;32m     11\u001b[0m                 \u001b[0mxldict\u001b[0m\u001b[1;33m[\u001b[0m\u001b[0msheet\u001b[0m\u001b[1;33m]\u001b[0m\u001b[1;33m[\u001b[0m\u001b[1;34m'TAPE'\u001b[0m\u001b[1;33m]\u001b[0m \u001b[1;33m=\u001b[0m \u001b[1;36m0\u001b[0m\u001b[1;33m\u001b[0m\u001b[0m\n\u001b[0;32m     12\u001b[0m                 \u001b[0mxldict\u001b[0m\u001b[1;33m[\u001b[0m\u001b[0msheet\u001b[0m\u001b[1;33m]\u001b[0m\u001b[1;33m[\u001b[0m\u001b[1;34m'LOCATIONID'\u001b[0m\u001b[1;33m]\u001b[0m \u001b[1;33m=\u001b[0m \u001b[0mint\u001b[0m\u001b[1;33m(\u001b[0m\u001b[0msheet\u001b[0m\u001b[1;33m)\u001b[0m\u001b[1;33m\u001b[0m\u001b[0m\n\u001b[1;32m---> 13\u001b[1;33m                 \u001b[1;32mif\u001b[0m \u001b[0mxldict\u001b[0m\u001b[1;33m[\u001b[0m\u001b[0msheet\u001b[0m\u001b[1;33m]\u001b[0m\u001b[1;33m.\u001b[0m\u001b[0mloc\u001b[0m\u001b[1;33m[\u001b[0m\u001b[0mxldict\u001b[0m\u001b[1;33m[\u001b[0m\u001b[0msheet\u001b[0m\u001b[1;33m]\u001b[0m\u001b[1;33m.\u001b[0m\u001b[0mlast_valid_index\u001b[0m\u001b[1;33m(\u001b[0m\u001b[1;33m)\u001b[0m\u001b[1;33m,\u001b[0m\u001b[1;34m'DRIFTCORRECTION'\u001b[0m\u001b[1;33m]\u001b[0m \u001b[1;33m<\u001b[0m \u001b[1;36m0.3\u001b[0m\u001b[1;33m:\u001b[0m\u001b[1;33m\u001b[0m\u001b[0m\n\u001b[0m\u001b[0;32m     14\u001b[0m                     \u001b[0madd_data\u001b[0m\u001b[1;33m(\u001b[0m\u001b[0mxldict\u001b[0m\u001b[1;33m[\u001b[0m\u001b[0msheet\u001b[0m\u001b[1;33m]\u001b[0m\u001b[1;33m)\u001b[0m\u001b[1;33m\u001b[0m\u001b[0m\n\u001b[0;32m     15\u001b[0m                 \u001b[1;32melse\u001b[0m\u001b[1;33m:\u001b[0m\u001b[1;33m\u001b[0m\u001b[0m\n",
      "\u001b[1;31mTypeError\u001b[0m: unorderable types: str() < float()"
     ]
    }
   ],
   "source": [
    "xldict = {}\n",
    "cols = ['READINGDATE','MEASUREDLEVEL','TEMP','BP','MEASUREDDTW','DRIFTCORRECTION','WATERELEVATION','DTWBELOWGROUNDSURFACE']\n",
    "\n",
    "for sheet in xl.sheet_names:\n",
    "    #print(sheet)\n",
    "    if str(sheet)[:2] == '10':\n",
    "        if int(str(sheet)[:4]) < 1081:\n",
    "            try:\n",
    "                xldict[sheet] = xl.parse(sheet, parse_cols=(\"A,B,C,D,E,L,M,N\"), skiprows=1,header=None)\n",
    "                xldict[sheet].columns = cols\n",
    "                xldict[sheet]['TAPE'] = 0\n",
    "                xldict[sheet]['LOCATIONID'] = int(sheet)\n",
    "                if xldict[sheet].loc[xldict[sheet].last_valid_index(),'DRIFTCORRECTION'] < 0.3:\n",
    "                    add_data(xldict[sheet])\n",
    "                else:\n",
    "                    print('Well {:} drift too high'.format(xldict[sheet]['LOCATIONID'].values[-1]))\n",
    "            except (RuntimeError,TypeError):\n",
    "                print('format exception for well {:}'.format(sheet))\n",
    "                pass"
   ]
  },
  {
   "cell_type": "markdown",
   "metadata": {},
   "source": [
    "date\tpiezo\ttemp\tbaro\tpiezobaro\televation\tstickup\tcap\tmeasure\tmanual\tid\tcomp\twater elev\tdtw\tdiff\tmax\tmin\n"
   ]
  },
  {
   "cell_type": "code",
   "execution_count": null,
   "metadata": {},
   "outputs": [],
   "source": [
    "xl.parse('1003', parse_cols=(\"A,B,C,D,E,L,M,N\"), skiprows=1,header=None)"
   ]
  }
 ],
 "metadata": {
  "kernelspec": {
   "display_name": "Python 3",
   "language": "python",
   "name": "python3"
  },
  "language_info": {
   "codemirror_mode": {
    "name": "ipython",
    "version": 3
   },
   "file_extension": ".py",
   "mimetype": "text/x-python",
   "name": "python",
   "nbconvert_exporter": "python",
   "pygments_lexer": "ipython3",
   "version": "3.5.3"
  }
 },
 "nbformat": 4,
 "nbformat_minor": 2
}
