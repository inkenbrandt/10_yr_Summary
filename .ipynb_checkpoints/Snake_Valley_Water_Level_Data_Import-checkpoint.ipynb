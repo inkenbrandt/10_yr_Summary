{
 "cells": [
  {
   "cell_type": "markdown",
   "metadata": {},
   "source": [
    "Import Dependencies"
   ]
  },
  {
   "cell_type": "code",
   "execution_count": 1,
   "metadata": {
    "collapsed": false
   },
   "outputs": [],
   "source": [
    "%matplotlib inline\n",
    "import os\n",
    "import sys\n",
    "import platform\n",
    "import matplotlib\n",
    "\n",
    "import pandas as pd\n",
    "import numpy as np\n",
    "import matplotlib.pyplot as plt\n",
    "import matplotlib.dates as dates\n",
    "import matplotlib.ticker as tick\n",
    "from matplotlib.backends.backend_pdf import PdfPages\n",
    "from datetime import datetime,timedelta\n",
    "from pylab import rcParams\n",
    "rcParams['figure.figsize'] = 15, 10"
   ]
  },
  {
   "cell_type": "code",
   "execution_count": 2,
   "metadata": {
    "collapsed": true
   },
   "outputs": [],
   "source": [
    "import ipywidgets as widgets\n",
    "widgets.Widget.widget_types.values()\n",
    "from IPython.display import display\n",
    "import traitlets"
   ]
  },
  {
   "cell_type": "code",
   "execution_count": 3,
   "metadata": {
    "collapsed": false
   },
   "outputs": [],
   "source": [
    "# custom functions for transducer data import\n",
    "#import Snake_Valley_Data_Import as svdi\n",
    "import wellapplication.transport as svdi"
   ]
  },
  {
   "cell_type": "markdown",
   "metadata": {},
   "source": [
    "Declare software versions"
   ]
  },
  {
   "cell_type": "code",
   "execution_count": 4,
   "metadata": {
    "collapsed": false
   },
   "outputs": [
    {
     "name": "stdout",
     "output_type": "stream",
     "text": [
      "Operating System Windows 7\n",
      "Python Version 2.7.10 (default, May 23 2015, 09:40:32) [MSC v.1500 32 bit (Intel)]\n",
      "Pandas Version 0.18.1\n",
      "Numpy Version 1.11.0\n",
      "Matplotlib Version 1.5.1\n"
     ]
    }
   ],
   "source": [
    "print(\"Operating System \" + platform.system() + \" \" + platform.release())\n",
    "print(\"Python Version \" + str(sys.version))\n",
    "print(\"Pandas Version \" + str(pd.__version__))\n",
    "print(\"Numpy Version \" + str(np.__version__))\n",
    "print(\"Matplotlib Version \" + str(matplotlib.__version__))"
   ]
  },
  {
   "cell_type": "markdown",
   "metadata": {},
   "source": [
    "Designate root environments"
   ]
  },
  {
   "cell_type": "code",
   "execution_count": 5,
   "metadata": {
    "collapsed": false
   },
   "outputs": [],
   "source": [
    "drive = 'M:'\n",
    "raw_archive_folder = drive + '/PROJECTS/Snake Valley Water/Transducer Data/Raw_data_archive'\n",
    "folder = raw_archive_folder + '/2016/2016 q2/'\n",
    "enteredFolder = folder + '/entered/'\n",
    "checkFolder = folder + '/toCheck/'\n",
    "wellinfofile = drive + raw_archive_folder + '/well table 2015-03-23.csv'"
   ]
  },
  {
   "cell_type": "markdown",
   "metadata": {},
   "source": [
    "Import Connection Info For Database"
   ]
  },
  {
   "cell_type": "code",
   "execution_count": 6,
   "metadata": {
    "collapsed": false
   },
   "outputs": [],
   "source": [
    "sys.path.append(raw_archive_folder)\n",
    "import engineGetter"
   ]
  },
  {
   "cell_type": "code",
   "execution_count": 7,
   "metadata": {
    "collapsed": false
   },
   "outputs": [
    {
     "name": "stdout",
     "output_type": "stream",
     "text": [
      "Creating Output Folder\n"
     ]
    }
   ],
   "source": [
    "if not os.path.exists(enteredFolder):\n",
    "    print('Creating Output Folder')\n",
    "    os.makedirs(enteredFolder)\n",
    "else:\n",
    "    print('Output Folder Exists')"
   ]
  },
  {
   "cell_type": "code",
   "execution_count": 8,
   "metadata": {
    "collapsed": false
   },
   "outputs": [
    {
     "name": "stdout",
     "output_type": "stream",
     "text": [
      "Creating Check Folder\n"
     ]
    }
   ],
   "source": [
    "if not os.path.exists(checkFolder):\n",
    "    print('Creating Check Folder')\n",
    "    os.makedirs(checkFolder)\n",
    "else:\n",
    "    print('Check Folder Exists')"
   ]
  },
  {
   "cell_type": "markdown",
   "metadata": {},
   "source": [
    "## Import Relevant Data"
   ]
  },
  {
   "cell_type": "markdown",
   "metadata": {},
   "source": [
    "### Well Information"
   ]
  },
  {
   "cell_type": "code",
   "execution_count": 9,
   "metadata": {
    "collapsed": false
   },
   "outputs": [],
   "source": [
    "wellinf = pd.read_csv(raw_archive_folder + '/well table 2015-03-23.csv',index_col=0)\n",
    "wellinf[\"G_Elev_m\"] = wellinf[\"GroundElevation\"]/3.2808\n",
    "wellinf[\"Well\"] = wellinf['Well'].apply(lambda x: str(x).lower().strip())\n",
    "wellinf['WellID'] = wellinf.index.values\n",
    "#wellinfo = svdi.barodistance(wellinfo)\n",
    "wellinfo = svdi.make_files_table(folder, wellinf)\n",
    "wellinfo.to_csv(folder+\"/wellinfo4.csv\")"
   ]
  },
  {
   "cell_type": "markdown",
   "metadata": {},
   "source": [
    "### Manual Water Levels"
   ]
  },
  {
   "cell_type": "code",
   "execution_count": 10,
   "metadata": {
    "collapsed": false
   },
   "outputs": [],
   "source": [
    "manualwls = raw_archive_folder + \"/All tape measurements.csv\"\n",
    "manual = pd.read_csv(manualwls, index_col=\"DateTime\", engine=\"python\")"
   ]
  },
  {
   "cell_type": "markdown",
   "metadata": {},
   "source": [
    "### New Barometric Pressure Data"
   ]
  },
  {
   "cell_type": "code",
   "execution_count": 11,
   "metadata": {
    "collapsed": false
   },
   "outputs": [],
   "source": [
    "pw03baro_append = folder + \"\\\\pw03 baro 2016-08-03.xle\"\n",
    "pw10baro_append = folder + \"\\\\pw10 baro 2016-08-03.xle\"\n",
    "pw19baro_append = folder + \"\\\\pw19 baro 2016-08-04.xle\""
   ]
  },
  {
   "cell_type": "markdown",
   "metadata": {},
   "source": [
    "## Compile Barometric Pressure Data"
   ]
  },
  {
   "cell_type": "markdown",
   "metadata": {},
   "source": [
    "Skip this section if you have already compiled the data to save on processing time."
   ]
  },
  {
   "cell_type": "markdown",
   "metadata": {},
   "source": [
    "### Call Up Existing Data"
   ]
  },
  {
   "cell_type": "code",
   "execution_count": 12,
   "metadata": {
    "collapsed": false
   },
   "outputs": [],
   "source": [
    "pw03baro = raw_archive_folder + \"\\\\pw03baro.csv\"\n",
    "pw10baro = raw_archive_folder + \"\\\\pw10baro.csv\"\n",
    "pw19baro = raw_archive_folder +  \"\\\\pw19baro.csv\""
   ]
  },
  {
   "cell_type": "markdown",
   "metadata": {},
   "source": [
    "### Append New Data to Existing Data"
   ]
  },
  {
   "cell_type": "code",
   "execution_count": 13,
   "metadata": {
    "collapsed": false
   },
   "outputs": [],
   "source": [
    "svdi.appendomatic(pw03baro_append,pw03baro)\n",
    "svdi.appendomatic(pw10baro_append,pw10baro)\n",
    "svdi.appendomatic(pw19baro_append,pw19baro)"
   ]
  },
  {
   "cell_type": "code",
   "execution_count": 14,
   "metadata": {
    "collapsed": false
   },
   "outputs": [],
   "source": [
    "# duplicated to update changes made by appendomatic\n",
    "pw03baro = pd.read_csv(raw_archive_folder + \"\\\\pw03baro.csv\",index_col='DateTime',parse_dates=True)\n",
    "pw10baro = pd.read_csv(raw_archive_folder + \"\\\\pw10baro.csv\",index_col='DateTime',parse_dates=True)\n",
    "pw19baro = pd.read_csv(raw_archive_folder + \"\\\\pw19baro.csv\",index_col='DateTime',parse_dates=True)"
   ]
  },
  {
   "cell_type": "code",
   "execution_count": 15,
   "metadata": {
    "collapsed": false
   },
   "outputs": [],
   "source": [
    "pw03baro['pw03'] = pw03baro['Level']\n",
    "pw03baro = svdi.hourly_resample(pw03baro['pw03'].to_frame())\n",
    "pw10baro['pw10'] = pw10baro['Level']\n",
    "pw10baro = svdi.hourly_resample(pw10baro['pw10'].to_frame())\n",
    "pw19baro['pw19'] = pw19baro['Level']\n",
    "pw19baro = svdi.hourly_resample(pw19baro['pw19'].to_frame())"
   ]
  },
  {
   "cell_type": "code",
   "execution_count": 16,
   "metadata": {
    "collapsed": false
   },
   "outputs": [],
   "source": [
    "baro = pd.merge(pw03baro,pw10baro,how=\"outer\",left_index=True,right_index=True)\n",
    "baro = pd.merge(baro,pw19baro,how=\"outer\",left_index=True,right_index=True)\n",
    "baro.dropna(axis=0,inplace=True)\n",
    "baro['integr'] = 0 #for vented transducers"
   ]
  },
  {
   "cell_type": "code",
   "execution_count": 30,
   "metadata": {
    "collapsed": false
   },
   "outputs": [
    {
     "data": {
      "text/html": [
       "<div>\n",
       "<table border=\"1\" class=\"dataframe\">\n",
       "  <thead>\n",
       "    <tr style=\"text-align: right;\">\n",
       "      <th></th>\n",
       "      <th>pw03</th>\n",
       "      <th>pw10</th>\n",
       "      <th>pw19</th>\n",
       "      <th>integr</th>\n",
       "    </tr>\n",
       "    <tr>\n",
       "      <th>DateTime</th>\n",
       "      <th></th>\n",
       "      <th></th>\n",
       "      <th></th>\n",
       "      <th></th>\n",
       "    </tr>\n",
       "  </thead>\n",
       "  <tbody>\n",
       "    <tr>\n",
       "      <th>2015-11-15 10:00:00</th>\n",
       "      <td>2.4887</td>\n",
       "      <td>2.89</td>\n",
       "      <td>2.9464</td>\n",
       "      <td>0</td>\n",
       "    </tr>\n",
       "  </tbody>\n",
       "</table>\n",
       "</div>"
      ],
      "text/plain": [
       "                       pw03  pw10    pw19  integr\n",
       "DateTime                                         \n",
       "2015-11-15 10:00:00  2.4887  2.89  2.9464       0"
      ]
     },
     "execution_count": 30,
     "metadata": {},
     "output_type": "execute_result"
    }
   ],
   "source": [
    "baro[baro.index.to_datetime()==pd.datetime(2015,11,15,10)]"
   ]
  },
  {
   "cell_type": "code",
   "execution_count": 17,
   "metadata": {
    "collapsed": false
   },
   "outputs": [
    {
     "data": {
      "text/plain": [
       "<matplotlib.axes._subplots.AxesSubplot at 0x9a8a610>"
      ]
     },
     "execution_count": 17,
     "metadata": {},
     "output_type": "execute_result"
    },
    {
     "data": {
      "image/png": "[encoded data removed]",
      "text/plain": [
       "<matplotlib.figure.Figure at 0x9aad4b0>"
      ]
     },
     "metadata": {},
     "output_type": "display_data"
    }
   ],
   "source": [
    "baro[['pw03','pw10','pw19']].plot()"
   ]
  },
  {
   "cell_type": "code",
   "execution_count": 18,
   "metadata": {
    "collapsed": false
   },
   "outputs": [],
   "source": [
    "baro.to_csv(raw_archive_folder + '\\\\baro.csv')"
   ]
  },
  {
   "cell_type": "markdown",
   "metadata": {},
   "source": [
    "## Water Level Tranducer Data"
   ]
  },
  {
   "cell_type": "markdown",
   "metadata": {},
   "source": [
    "### Export and Plot Data"
   ]
  },
  {
   "cell_type": "markdown",
   "metadata": {},
   "source": [
    "#### Export Manual Data"
   ]
  },
  {
   "cell_type": "code",
   "execution_count": 19,
   "metadata": {
    "collapsed": false
   },
   "outputs": [
    {
     "name": "stdout",
     "output_type": "stream",
     "text": [
      "DateTime        object\n",
      "WellID         float64\n",
      "MeasuredDTW    float64\n",
      "WellName        object\n",
      "dtype: object\n",
      "            DateTime  WellID_x  MeasuredDTW                  WellName  \\\n",
      "0    6/23/2015 14:47      21.0        41.35                    PW07MX   \n",
      "1    6/23/2015 14:51      20.0        48.54                     PW07B   \n",
      "2    6/23/2015 14:53      19.0        46.77                     PW07A   \n",
      "3    6/23/2015 15:50      23.0       101.97                     PW08B   \n",
      "4    6/23/2015 15:54      22.0       102.30                     PW08A   \n",
      "5    6/23/2015 16:15      30.0       210.44                     PW11D   \n",
      "6    6/23/2015 16:17      31.0       210.33                     PW11E   \n",
      "7    6/23/2015 16:21      28.0       215.52                     PW11B   \n",
      "8    6/23/2015 16:25      29.0       215.05                     PW11C   \n",
      "9    6/23/2015 16:52      72.0         8.42          Needle Point BLM   \n",
      "10   6/23/2015 16:58      57.0         9.35                     SG23B   \n",
      "11   6/23/2015 17:12      71.0        71.47     Snake Valley South MX   \n",
      "12   6/23/2015 17:28       4.0        31.32                     PW02A   \n",
      "13   6/23/2015 17:31       5.0        30.56                     PW02B   \n",
      "14   6/23/2015 17:52      41.0        28.71                     AG16B   \n",
      "15   6/23/2015 17:54      42.0        16.96                     AG16C   \n",
      "16   6/23/2015 18:01      40.0        21.86                     AG16A   \n",
      "17    6/24/2015 7:21       1.0       104.59                     PW01A   \n",
      "18    6/24/2015 7:32       2.0       105.59                     PW01B   \n",
      "19    6/24/2015 7:38       3.0       122.93                     PW01C   \n",
      "20    6/24/2015 9:14      39.0        83.51                      AG15   \n",
      "21    6/24/2015 9:48       9.0       592.91                     PW04A   \n",
      "22    6/24/2015 9:58      10.0       592.70                     PW04B   \n",
      "23   6/24/2015 11:00      33.0        74.24                     AG13A   \n",
      "24   6/24/2015 11:03      34.0        82.42                     AG13B   \n",
      "25   6/24/2015 11:05      35.0        84.10                     AG13C   \n",
      "26   6/24/2015 11:21      11.0        56.86                     PW05A   \n",
      "27   6/24/2015 11:24      12.0        41.57                     PW05B   \n",
      "28   6/24/2015 11:26      13.0        40.14                     PW05C   \n",
      "29   6/24/2015 11:56      38.0        22.78                     AG14C   \n",
      "..               ...       ...          ...                       ...   \n",
      "268    8/4/2016 9:37      48.0       195.97                     PW19A   \n",
      "269    8/4/2016 9:49      49.0       195.30                     PW19B   \n",
      "270    8/4/2016 9:43      50.0       198.32                     PW19C   \n",
      "271   8/3/2016 11:01      51.0       293.71                      PW20   \n",
      "272    8/4/2016 8:25      52.0         7.74                     SG21A   \n",
      "273    8/4/2016 8:28      53.0         7.64                     SG21B   \n",
      "274    8/4/2016 8:22      54.0         4.91                     SG21C   \n",
      "275    8/4/2016 8:45      55.0         4.85                     SG22A   \n",
      "276    8/4/2016 8:50      56.0        -2.14                     SG22B   \n",
      "277   8/1/2016 14:15      57.0        10.32                     SG23B   \n",
      "278   8/1/2016 14:45      57.0        10.00                     SG23B   \n",
      "279   8/2/2016 13:22      58.0         5.67                     SG24A   \n",
      "280   8/2/2016 13:20      59.0         3.70                     SG24B   \n",
      "281   8/2/2016 13:24      60.0         1.86                     SG24C   \n",
      "282    8/3/2016 8:24      61.0         5.60                     SG25A   \n",
      "283    8/3/2016 8:28      62.0         5.62                     SG25B   \n",
      "284    8/3/2016 8:26      63.0         2.67                     SG25C   \n",
      "285    8/3/2016 9:05      64.0         9.69                     SG25D   \n",
      "286    8/3/2016 7:45      65.0         6.42                     SG26A   \n",
      "287    8/3/2016 7:37      66.0         2.77                     SG26B   \n",
      "288    8/3/2016 7:47      67.0         2.82                     SG26C   \n",
      "289    8/3/2016 6:56      68.0         8.42                      SG27   \n",
      "290   8/2/2016 13:05      69.0        43.22           Twin Springs MX   \n",
      "291   8/2/2016 14:20      70.0        23.48     Snake Valley North MX   \n",
      "292   8/1/2016 15:05      71.0        71.67     Snake Valley South MX   \n",
      "293   8/1/2016 14:22      72.0         9.39          Needle Point BLM   \n",
      "294   8/2/2016 11:15      73.0        81.57                Eskdale MX   \n",
      "295   8/2/2016 15:00      74.0        46.96               Baker Creek   \n",
      "296   8/3/2016 13:12      75.0        54.51           Central Tule MX   \n",
      "297    8/4/2016 7:35     136.0        60.93  Callao Agricultural Well   \n",
      "\n",
      "           date extensions                        full_file_name  \\\n",
      "0    2016-08-02       .xle                  pw05a 2016-08-02.xle   \n",
      "1    2016-08-02       .csv                  pw04b 2016-08-02.csv   \n",
      "2    2016-08-02       .csv                  pw04a 2016-08-02.csv   \n",
      "3    2016-08-02       .csv                  pw05c 2016-08-02.csv   \n",
      "4    2016-08-02       .csv                  pw05b 2016-08-02.csv   \n",
      "5    2016-08-01       .csv                  pw07b 2016-08-01.csv   \n",
      "6    2016-08-01       .xle                  pw08a 2016-08-01.xle   \n",
      "7    2016-08-02       .xle                 pw06mx 2016-08-02.xle   \n",
      "8    2016-08-01       .xle                  pw07a 2016-08-01.xle   \n",
      "9           NaN        NaN                                   NaN   \n",
      "10   2016-08-03       .xle                  sg26a 2016-08-03.xle   \n",
      "11          NaN        NaN                                   NaN   \n",
      "12   2016-08-02       .csv                  ag14b 2016-08-02.csv   \n",
      "13   2016-08-02       .xle                  ag14c 2016-08-02.xle   \n",
      "14   2016-08-03       .xle                  pw17b 2016-08-03.xle   \n",
      "15   2016-08-03       .csv                  pw17c 2016-08-03.csv   \n",
      "16   2016-08-03       .csv                  pw17a 2016-08-03.csv   \n",
      "17   2016-08-02       .xle                  ag13b 2016-08-02.xle   \n",
      "18   2016-08-02       .xle                  ag13c 2016-08-02.xle   \n",
      "19   2016-08-02       .csv                  ag14a 2016-08-02.csv   \n",
      "20   2016-08-01       .xle                  pw11e 2016-08-01.xle   \n",
      "21   2016-08-03       .xle        central tule mx 2016-08-03.xle   \n",
      "22   2016-08-02       .csv             eskdale mx 2016-08-02.csv   \n",
      "23   2016-08-02       .csv                  pw09a 2016-08-02.csv   \n",
      "24   2016-08-02       .csv                  pw09b 2016-08-02.csv   \n",
      "25   2016-08-03       .xle                  pw10a 2016-08-03.xle   \n",
      "26   2016-08-02       .xle                  pw01a 2016-08-02.xle   \n",
      "27   2016-08-02       .xle                  pw01b 2016-08-02.xle   \n",
      "28   2016-08-02       .csv                  pw01c 2016-08-02.csv   \n",
      "29   2016-08-01       .csv                  pw11c 2016-08-01.csv   \n",
      "..          ...        ...                                   ...   \n",
      "268  2016-08-04       .xle                  sg22a 2016-08-04.xle   \n",
      "269  2016-08-04       .xle                  sg22b 2016-08-04.xle   \n",
      "270  2016-08-01       .xle                  sg23b 2016-08-01.xle   \n",
      "271  2016-08-02       .xle                  sg24b 2016-08-02.xle   \n",
      "272  2016-08-02       .xle                  sg24c 2016-08-02.xle   \n",
      "273  2016-08-03       .xle                  sg25a 2016-08-03.xle   \n",
      "274  2016-08-03       .xle                  sg25b 2016-08-03.xle   \n",
      "275  2016-08-03       .xle                  sg25c 2016-08-03.xle   \n",
      "276  2016-08-03       .xle                  sg25d 2016-08-03.xle   \n",
      "277  2016-08-03       .xle                  sg26a 2016-08-03.xle   \n",
      "278  2016-08-03       .xle                  sg26a 2016-08-03.xle   \n",
      "279  2016-08-02       .xle  snake valley north mx 2016-08-02.xle   \n",
      "280  2016-08-01       .xle  snake valley south mx 2016-08-01.xle   \n",
      "281  2016-08-02       .xle        twin springs mx 2016-08-02.xle   \n",
      "282  2016-08-01       .xle       needle point blm 2016-08-01.xle   \n",
      "283  2016-08-03       .xle       coyote knolls mx 2016-08-03.xle   \n",
      "284         NaN        NaN                                   NaN   \n",
      "285         NaN        NaN                                   NaN   \n",
      "286         NaN        NaN                                   NaN   \n",
      "287         NaN        NaN                                   NaN   \n",
      "288         NaN        NaN                                   NaN   \n",
      "289         NaN        NaN                                   NaN   \n",
      "290         NaN        NaN                                   NaN   \n",
      "291         NaN        NaN                                   NaN   \n",
      "292         NaN        NaN                                   NaN   \n",
      "293         NaN        NaN                                   NaN   \n",
      "294         NaN        NaN                                   NaN   \n",
      "295         NaN        NaN                                   NaN   \n",
      "296         NaN        NaN                                   NaN   \n",
      "297         NaN        NaN                                   NaN   \n",
      "\n",
      "                    siteid LoggerTypeName  SiteID       ...        \\\n",
      "0                    pw05a        Solinst     5.0       ...         \n",
      "1                    pw04b   Global Water     4.0       ...         \n",
      "2                    pw04a   Global Water     4.0       ...         \n",
      "3                    pw05c   Global Water     5.0       ...         \n",
      "4                    pw05b   Global Water     5.0       ...         \n",
      "5                    pw07b   Global Water     7.0       ...         \n",
      "6                    pw08a        Solinst     8.0       ...         \n",
      "7                   pw06mx        Solinst     6.0       ...         \n",
      "8                    pw07a        Solinst     7.0       ...         \n",
      "9                      NaN            NaN     NaN       ...         \n",
      "10                   sg26a        Solinst    26.0       ...         \n",
      "11                     NaN            NaN     NaN       ...         \n",
      "12                   ag14b   Global Water    14.0       ...         \n",
      "13                   ag14c        Solinst    14.0       ...         \n",
      "14                   pw17b        Solinst    17.0       ...         \n",
      "15                   pw17c   Global Water    17.0       ...         \n",
      "16                   pw17a   Global Water    17.0       ...         \n",
      "17                   ag13b        Solinst    13.0       ...         \n",
      "18                   ag13c        Solinst    13.0       ...         \n",
      "19                   ag14a   Global Water    14.0       ...         \n",
      "20                   pw11e        Solinst    11.0       ...         \n",
      "21         central tule mx        Solinst    33.0       ...         \n",
      "22              eskdale mx   Global Water    31.0       ...         \n",
      "23                   pw09a   Global Water     9.0       ...         \n",
      "24                   pw09b   Global Water     9.0       ...         \n",
      "25                   pw10a        Solinst    10.0       ...         \n",
      "26                   pw01a        Solinst     1.0       ...         \n",
      "27                   pw01b        Solinst     1.0       ...         \n",
      "28                   pw01c   Global Water     1.0       ...         \n",
      "29                   pw11c   Global Water    11.0       ...         \n",
      "..                     ...            ...     ...       ...         \n",
      "268                  sg22a        Solinst    22.0       ...         \n",
      "269                  sg22b        Solinst    22.0       ...         \n",
      "270                  sg23b        Solinst    23.0       ...         \n",
      "271                  sg24b        Solinst    24.0       ...         \n",
      "272                  sg24c        Solinst    24.0       ...         \n",
      "273                  sg25a        Solinst    25.0       ...         \n",
      "274                  sg25b        Solinst    25.0       ...         \n",
      "275                  sg25c        Solinst    25.0       ...         \n",
      "276                  sg25d        Solinst    25.0       ...         \n",
      "277                  sg26a        Solinst    26.0       ...         \n",
      "278                  sg26a        Solinst    26.0       ...         \n",
      "279  snake valley north mx        Solinst    29.0       ...         \n",
      "280  snake valley south mx        Solinst    30.0       ...         \n",
      "281        twin springs mx        Solinst    28.0       ...         \n",
      "282       needle point blm        Solinst    23.0       ...         \n",
      "283       coyote knolls mx        Solinst    34.0       ...         \n",
      "284                    NaN            NaN     NaN       ...         \n",
      "285                    NaN            NaN     NaN       ...         \n",
      "286                    NaN            NaN     NaN       ...         \n",
      "287                    NaN            NaN     NaN       ...         \n",
      "288                    NaN            NaN     NaN       ...         \n",
      "289                    NaN            NaN     NaN       ...         \n",
      "290                    NaN            NaN     NaN       ...         \n",
      "291                    NaN            NaN     NaN       ...         \n",
      "292                    NaN            NaN     NaN       ...         \n",
      "293                    NaN            NaN     NaN       ...         \n",
      "294                    NaN            NaN     NaN       ...         \n",
      "295                    NaN            NaN     NaN       ...         \n",
      "296                    NaN            NaN     NaN       ...         \n",
      "297                    NaN            NaN     NaN       ...         \n",
      "\n",
      "    MeasuredLevel Temp  BaroEfficiencyCorrected  DeltaLevel  DriftCorrection  \\\n",
      "0             NaN  NaN                      NaN         NaN              NaN   \n",
      "1             NaN  NaN                      NaN         NaN              NaN   \n",
      "2             NaN  NaN                      NaN         NaN              NaN   \n",
      "3             NaN  NaN                      NaN         NaN              NaN   \n",
      "4             NaN  NaN                      NaN         NaN              NaN   \n",
      "5             NaN  NaN                      NaN         NaN              NaN   \n",
      "6             NaN  NaN                      NaN         NaN              NaN   \n",
      "7             NaN  NaN                      NaN         NaN              NaN   \n",
      "8             NaN  NaN                      NaN         NaN              NaN   \n",
      "9             NaN  NaN                      NaN         NaN              NaN   \n",
      "10            NaN  NaN                      NaN         NaN              NaN   \n",
      "11            NaN  NaN                      NaN         NaN              NaN   \n",
      "12            NaN  NaN                      NaN         NaN              NaN   \n",
      "13            NaN  NaN                      NaN         NaN              NaN   \n",
      "14            NaN  NaN                      NaN         NaN              NaN   \n",
      "15            NaN  NaN                      NaN         NaN              NaN   \n",
      "16            NaN  NaN                      NaN         NaN              NaN   \n",
      "17            NaN  NaN                      NaN         NaN              NaN   \n",
      "18            NaN  NaN                      NaN         NaN              NaN   \n",
      "19            NaN  NaN                      NaN         NaN              NaN   \n",
      "20            NaN  NaN                      NaN         NaN              NaN   \n",
      "21            NaN  NaN                      NaN         NaN              NaN   \n",
      "22            NaN  NaN                      NaN         NaN              NaN   \n",
      "23            NaN  NaN                      NaN         NaN              NaN   \n",
      "24            NaN  NaN                      NaN         NaN              NaN   \n",
      "25            NaN  NaN                      NaN         NaN              NaN   \n",
      "26            NaN  NaN                      NaN         NaN              NaN   \n",
      "27            NaN  NaN                      NaN         NaN              NaN   \n",
      "28            NaN  NaN                      NaN         NaN              NaN   \n",
      "29            NaN  NaN                      NaN         NaN              NaN   \n",
      "..            ...  ...                      ...         ...              ...   \n",
      "268           NaN  NaN                      NaN         NaN              NaN   \n",
      "269           NaN  NaN                      NaN         NaN              NaN   \n",
      "270           NaN  NaN                      NaN         NaN              NaN   \n",
      "271           NaN  NaN                      NaN         NaN              NaN   \n",
      "272           NaN  NaN                      NaN         NaN              NaN   \n",
      "273           NaN  NaN                      NaN         NaN              NaN   \n",
      "274           NaN  NaN                      NaN         NaN              NaN   \n",
      "275           NaN  NaN                      NaN         NaN              NaN   \n",
      "276           NaN  NaN                      NaN         NaN              NaN   \n",
      "277           NaN  NaN                      NaN         NaN              NaN   \n",
      "278           NaN  NaN                      NaN         NaN              NaN   \n",
      "279           NaN  NaN                      NaN         NaN              NaN   \n",
      "280           NaN  NaN                      NaN         NaN              NaN   \n",
      "281           NaN  NaN                      NaN         NaN              NaN   \n",
      "282           NaN  NaN                      NaN         NaN              NaN   \n",
      "283           NaN  NaN                      NaN         NaN              NaN   \n",
      "284           NaN  NaN                      NaN         NaN              NaN   \n",
      "285           NaN  NaN                      NaN         NaN              NaN   \n",
      "286           NaN  NaN                      NaN         NaN              NaN   \n",
      "287           NaN  NaN                      NaN         NaN              NaN   \n",
      "288           NaN  NaN                      NaN         NaN              NaN   \n",
      "289           NaN  NaN                      NaN         NaN              NaN   \n",
      "290           NaN  NaN                      NaN         NaN              NaN   \n",
      "291           NaN  NaN                      NaN         NaN              NaN   \n",
      "292           NaN  NaN                      NaN         NaN              NaN   \n",
      "293           NaN  NaN                      NaN         NaN              NaN   \n",
      "294           NaN  NaN                      NaN         NaN              NaN   \n",
      "295           NaN  NaN                      NaN         NaN              NaN   \n",
      "296           NaN  NaN                      NaN         NaN              NaN   \n",
      "297           NaN  NaN                      NaN         NaN              NaN   \n",
      "\n",
      "     MeasuredBy Tape  DTWBelowGroundSurface  WaterElevation  DTWBelowCasing  \n",
      "0           NaN    1                  39.49         5040.21           41.35  \n",
      "1           NaN    1                  46.83         6133.37           48.54  \n",
      "2           NaN    1                  44.75         6135.45           46.77  \n",
      "3           NaN    1                 100.58         4979.12          101.97  \n",
      "4           NaN    1                 100.67         4979.03          102.30  \n",
      "5           NaN    1                 208.59         4814.41          210.44  \n",
      "6           NaN    1                 209.05         5517.75          210.33  \n",
      "7           NaN    1                 215.13         4759.97          215.52  \n",
      "8           NaN    1                 213.45         4810.05          215.05  \n",
      "9           NaN    1                    NaN             NaN            8.42  \n",
      "10          NaN    1                   7.13         4787.67            9.35  \n",
      "11          NaN    1                    NaN             NaN           71.47  \n",
      "12          NaN    1                  30.48         4979.32           31.32  \n",
      "13          NaN    1                  30.10         4979.70           30.56  \n",
      "14          NaN    1                  26.70         4480.20           28.71  \n",
      "15          NaN    1                  14.95         4491.95           16.96  \n",
      "16          NaN    1                  20.07         4487.43           21.86  \n",
      "17          NaN    1                 103.12         5158.98          104.59  \n",
      "18          NaN    1                 103.64         5158.46          105.59  \n",
      "19          NaN    1                 121.36         4889.04          122.93  \n",
      "20          NaN    1                  81.48         5578.02           83.51  \n",
      "21          NaN    1                 589.80         3892.60          592.91  \n",
      "22          NaN    1                 588.51         4453.69          592.70  \n",
      "23          NaN    1                  73.15         5052.85           74.24  \n",
      "24          NaN    1                  81.42         5043.08           82.42  \n",
      "25          NaN    1                  82.21         5184.09           84.10  \n",
      "26          NaN    1                  54.28         5258.42           56.86  \n",
      "27          NaN    1                  39.29         5273.41           41.57  \n",
      "28          NaN    1                  37.96         5274.74           40.14  \n",
      "29          NaN    1                  21.74         5643.26           22.78  \n",
      "..          ...  ...                    ...             ...             ...  \n",
      "268         NaN    1                 193.14         4123.26          195.97  \n",
      "269         NaN    1                 192.04         4125.36          195.30  \n",
      "270         NaN    1                 195.89         5254.41          198.32  \n",
      "271         NaN    1                 291.93         4527.57          293.71  \n",
      "272         NaN    1                   5.83         4814.27            7.74  \n",
      "273         NaN    1                   5.54         4783.46            7.64  \n",
      "274         NaN    1                   2.69         4786.31            4.91  \n",
      "275         NaN    1                   2.69         4786.41            4.85  \n",
      "276         NaN    1                  -4.46         4799.56           -2.14  \n",
      "277         NaN    1                   8.10         4786.70           10.32  \n",
      "278         NaN    1                   7.78         4787.02           10.00  \n",
      "279         NaN    1                   3.54         5092.56            5.67  \n",
      "280         NaN    1                   1.55         5580.35            3.70  \n",
      "281         NaN    1                   1.65         4889.05            1.86  \n",
      "282         NaN    1                   3.70         5446.60            5.60  \n",
      "283         NaN    1                   2.10         4568.70            5.62  \n",
      "284         NaN    1                    NaN             NaN            2.67  \n",
      "285         NaN    1                    NaN             NaN            9.69  \n",
      "286         NaN    1                    NaN             NaN            6.42  \n",
      "287         NaN    1                    NaN             NaN            2.77  \n",
      "288         NaN    1                    NaN             NaN            2.82  \n",
      "289         NaN    1                    NaN             NaN            8.42  \n",
      "290         NaN    1                    NaN             NaN           43.22  \n",
      "291         NaN    1                    NaN             NaN           23.48  \n",
      "292         NaN    1                    NaN             NaN           71.67  \n",
      "293         NaN    1                    NaN             NaN            9.39  \n",
      "294         NaN    1                    NaN             NaN           81.57  \n",
      "295         NaN    1                    NaN             NaN           46.96  \n",
      "296         NaN    1                    NaN             NaN           54.51  \n",
      "297         NaN    1                    NaN             NaN           60.93  \n",
      "\n",
      "[298 rows x 64 columns]\n"
     ]
    },
    {
     "name": "stderr",
     "output_type": "stream",
     "text": [
      "c:\\users\\paulinkenbrandt\\documents\\github\\env\\lib\\site-packages\\ipykernel\\__main__.py:4: SettingWithCopyWarning: \n",
      "A value is trying to be set on a copy of a slice from a DataFrame\n",
      "\n",
      "See the caveats in the documentation: http://pandas.pydata.org/pandas-docs/stable/indexing.html#indexing-view-versus-copy\n"
     ]
    }
   ],
   "source": [
    "manualwls = raw_archive_folder + \"\\\\All tape measurements.csv\"\n",
    "manual = pd.read_csv(manualwls, index_col=\"DateTime\", engine=\"python\")\n",
    "manualrecent = manual[manual.index.to_datetime() > pd.datetime(2015,6,1)]\n",
    "manualrecent.dropna(inplace=True)\n",
    "manualrecent.reset_index(inplace=True)\n",
    "print manualrecent.dtypes\n",
    "manualrecent = pd.merge(manualrecent, wellinfo, how='left',left_on='WellID', right_index=True)\n",
    "manualrecent.loc[:,\"MeasuredLevel\"] = np.nan\n",
    "manualrecent.loc[:,\"Temp\"] = np.nan\n",
    "manualrecent.loc[:,\"BaroEfficiencyCorrected\"] = np.nan \n",
    "manualrecent.loc[:,\"DeltaLevel\"] = np.nan\n",
    "manualrecent.loc[:,\"DriftCorrection\"] = np.nan\n",
    "manualrecent.loc[:,\"MeasuredBy\"] = np.nan\n",
    "manualrecent.loc[:,\"Tape\"] = 1\n",
    "manualrecent.loc[:,\"DTWBelowGroundSurface\"] = np.nan\n",
    "manualrecent.loc[:,\"WaterElevation\"] = np.nan\n",
    "#manualrecent[\"DTWBelowGroundSurface\"] = np.nan\n",
    "manualrecent.loc[:,\"DTWBelowCasing\"] = manualrecent.loc[:,\"MeasuredDTW\"]\n",
    "manualrecent.loc[:,\"DTWBelowGroundSurface\"] = manualrecent.loc[:,\"MeasuredDTW\"] - manualrecent.loc[:,\"Offset\"]\n",
    "manualrecent.loc[:,\"WaterElevation\"] = manualrecent.loc[:,'GroundElevation'] - manualrecent.loc[:,\"DTWBelowGroundSurface\"]\n",
    "print manualrecent\n",
    "\n",
    "#outpath = pathlist[0] + '\\\\' + pathlist[1] + '\\\\' + pathlist[2] + '\\\\' + pathlist[3] + '\\\\' + pathlist[4] + '\\\\' + 'Manual' + '.csv'  \n",
    "manualrecent.to_csv(raw_archive_folder+ 'Manual' + '.csv', index=True, columns= [\"WellID\",\"DateTime\",\"MeasuredLevel\",\"Temp\",\"BaroEfficiencyCorrected\",\"DeltaLevel\",\n",
    "                                             \"MeasuredDTW\",\"DriftCorrection\",\"DTWBelowCasing\",\"DTWBelowGroundSurface\",\n",
    "                                             \"WaterElevation\",\"Tape\",\"MeasuredBy\"])"
   ]
  },
  {
   "cell_type": "code",
   "execution_count": 20,
   "metadata": {
    "collapsed": false
   },
   "outputs": [],
   "source": [
    "manual['DateTime'] = manual.index.to_datetime()\n",
    "manual.to_csv(raw_archive_folder+ 'Manual' + '.csv', index=False, columns= [\"WellID\",\"DateTime\",\"MeasuredLevel\",\"Temp\",\"BaroEfficiencyCorrected\",\"DeltaLevel\",\n",
    "                                             \"MeasuredDTW\",\"DriftCorrection\",\"DTWBelowCasing\",\"DTWBelowGroundSurface\",\n",
    "                                             \"WaterElevation\",\"Tape\",\"MeasuredBy\"])"
   ]
  },
  {
   "cell_type": "markdown",
   "metadata": {},
   "source": [
    "#### List Files to Export"
   ]
  },
  {
   "cell_type": "code",
   "execution_count": 21,
   "metadata": {
    "collapsed": false
   },
   "outputs": [
    {
     "name": "stdout",
     "output_type": "stream",
     "text": [
      "0                     ag13a 2016-08-02.xle\n",
      "1                     ag13b 2016-08-02.xle\n",
      "2                     ag13c 2016-08-02.xle\n",
      "3                     ag14a 2016-08-02.csv\n",
      "4                     ag14b 2016-08-02.csv\n",
      "5                     ag14c 2016-08-02.xle\n",
      "6                      ag15 2016-08-02.csv\n",
      "7                     ag16a 2016-08-02.xle\n",
      "8                     ag16b 2016-08-02.xle\n",
      "9           central tule mx 2016-08-03.xle\n",
      "10               eskdale mx 2016-08-02.csv\n",
      "11                    pw01a 2016-08-02.xle\n",
      "12                    pw01b 2016-08-02.xle\n",
      "13                    pw01c 2016-08-02.csv\n",
      "14                    pw02a 2016-08-01.xle\n",
      "15                    pw02b 2016-08-01.xle\n",
      "16                    pw03a 2016-08-03.xle\n",
      "17                    pw03b 2016-08-03.xle\n",
      "18                    pw03z 2016-08-03.xle\n",
      "19                    pw04a 2016-08-02.csv\n",
      "20                    pw04b 2016-08-02.csv\n",
      "21                    pw05a 2016-08-02.xle\n",
      "22                    pw05b 2016-08-02.csv\n",
      "23                    pw05c 2016-08-02.csv\n",
      "24                    pw06a 2016-08-02.csv\n",
      "25                    pw06b 2016-08-02.xle\n",
      "26                    pw06c 2016-08-02.csv\n",
      "27                    pw06d 2016-08-02.csv\n",
      "28                   pw06mx 2016-08-02.xle\n",
      "29                    pw07a 2016-08-01.xle\n",
      "                      ...                 \n",
      "33                    pw09a 2016-08-02.csv\n",
      "34                    pw09b 2016-08-02.csv\n",
      "35                    pw10a 2016-08-03.xle\n",
      "36                    pw10b 2016-08-03.csv\n",
      "37                    pw11b 2016-08-01.csv\n",
      "38                    pw11c 2016-08-01.csv\n",
      "39                    pw11e 2016-08-01.xle\n",
      "40                    pw17a 2016-08-03.csv\n",
      "41                    pw17b 2016-08-03.xle\n",
      "42                    pw17c 2016-08-03.csv\n",
      "43                    pw19b 2016-08-04.csv\n",
      "44                    pw19c 2016-08-04.xle\n",
      "45                    sg21a 2016-08-04.xle\n",
      "46                    sg21b 2016-08-04.xle\n",
      "47                    sg21c 2016-08-04.xle\n",
      "48                    sg22a 2016-08-04.xle\n",
      "49                    sg22b 2016-08-04.xle\n",
      "50                    sg23b 2016-08-01.xle\n",
      "51                    sg24b 2016-08-02.xle\n",
      "52                    sg24c 2016-08-02.xle\n",
      "53                    sg25a 2016-08-03.xle\n",
      "54                    sg25b 2016-08-03.xle\n",
      "55                    sg25c 2016-08-03.xle\n",
      "56                    sg25d 2016-08-03.xle\n",
      "57                    sg26a 2016-08-03.xle\n",
      "58    snake valley north mx 2016-08-02.xle\n",
      "59    snake valley south mx 2016-08-01.xle\n",
      "60          twin springs mx 2016-08-02.xle\n",
      "61         needle point blm 2016-08-01.xle\n",
      "62         coyote knolls mx 2016-08-03.xle\n",
      "Name: full_file_name, dtype: object\n"
     ]
    }
   ],
   "source": [
    "print wellinfo.loc[:,'full_file_name']"
   ]
  },
  {
   "cell_type": "markdown",
   "metadata": {},
   "source": [
    "## Files To Database"
   ]
  },
  {
   "cell_type": "code",
   "execution_count": 22,
   "metadata": {
    "collapsed": false
   },
   "outputs": [],
   "source": [
    "manualwls = raw_archive_folder + '/All tape measurements.csv'\n",
    "manual = pd.read_csv(manualwls, index_col=\"DateTime\", engine=\"python\")\n",
    "barofile = raw_archive_folder + '/baro.csv'\n",
    "baro = pd.read_csv(barofile,index_col=0, parse_dates=True)\n",
    "wellinfo = pd.read_csv(folder + '/wellinfo4.csv')"
   ]
  },
  {
   "cell_type": "code",
   "execution_count": 23,
   "metadata": {
    "collapsed": false
   },
   "outputs": [],
   "source": [
    "engine = engineGetter.getEngine()"
   ]
  },
  {
   "cell_type": "markdown",
   "metadata": {},
   "source": [
    "### Add Select Wells"
   ]
  },
  {
   "cell_type": "code",
   "execution_count": 26,
   "metadata": {
    "collapsed": false
   },
   "outputs": [],
   "source": [
    "form = widgets.VBox()\n",
    "welllist = [\"pw07mx 2015-11-30.csv\",\"pw02a 11-30-2015.xle\",\"pw02a 2016-07-07.xle\",\"sg23b 2016-05-02.xle\"]\n",
    "welllist = welllist+ list(wellinfo.loc[:,'full_file_name'].values)\n",
    "#print welllist\n",
    "\n",
    "wells = widgets.SelectMultiple(description=\"Well\", options=welllist,padding=4)\n",
    "pdfName = widgets.Text(description=\"PDF:\",padding=4)\n",
    "driftTol = widgets.FloatSlider(value=0.05, min=0.00, max=10.0, step=0.05, description='Drift Tolerance:')\n",
    "form.children = [wells, pdfName, driftTol]\n",
    "display(form)"
   ]
  },
  {
   "cell_type": "code",
   "execution_count": 27,
   "metadata": {
    "collapsed": false
   },
   "outputs": [
    {
     "name": "stdout",
     "output_type": "stream",
     "text": [
      "M:/PROJECTS/Snake Valley Water/Transducer Data/Raw_data_archive/2016/2016 q2//pw07mx 2015-11-30.csv\n"
     ]
    },
    {
     "ename": "IndexError",
     "evalue": "index 0 is out of bounds for axis 0 with size 0",
     "output_type": "error",
     "traceback": [
      "\u001b[1;31m---------------------------------------------------------------------------\u001b[0m",
      "\u001b[1;31mIndexError\u001b[0m                                Traceback (most recent call last)",
      "\u001b[1;32m<ipython-input-27-79d38de7f484>\u001b[0m in \u001b[0;36m<module>\u001b[1;34m()\u001b[0m\n\u001b[0;32m      2\u001b[0m     \u001b[1;32mprint\u001b[0m \u001b[0mfolder\u001b[0m\u001b[1;33m+\u001b[0m\u001b[1;34m'/'\u001b[0m\u001b[1;33m+\u001b[0m\u001b[0mi\u001b[0m\u001b[1;33m\u001b[0m\u001b[0m\n\u001b[0;32m      3\u001b[0m     \u001b[0minputfile\u001b[0m \u001b[1;33m=\u001b[0m \u001b[0mfolder\u001b[0m \u001b[1;33m+\u001b[0m\u001b[1;34m'/'\u001b[0m\u001b[1;33m+\u001b[0m\u001b[0mi\u001b[0m\u001b[1;33m\u001b[0m\u001b[0m\n\u001b[1;32m----> 4\u001b[1;33m     \u001b[0mg\u001b[0m\u001b[1;33m,\u001b[0m \u001b[0mdrift\u001b[0m\u001b[1;33m,\u001b[0m \u001b[0mwellname\u001b[0m \u001b[1;33m=\u001b[0m \u001b[0msvdi\u001b[0m\u001b[1;33m.\u001b[0m\u001b[0mimp_new_well\u001b[0m\u001b[1;33m(\u001b[0m\u001b[0minputfile\u001b[0m\u001b[1;33m,\u001b[0m \u001b[0mwellinfo\u001b[0m\u001b[1;33m,\u001b[0m \u001b[0mmanual\u001b[0m\u001b[1;33m,\u001b[0m \u001b[0mbaro\u001b[0m\u001b[1;33m)\u001b[0m\u001b[1;33m\u001b[0m\u001b[0m\n\u001b[0m\u001b[0;32m      5\u001b[0m     \u001b[0mglist\u001b[0m \u001b[1;33m=\u001b[0m \u001b[0mg\u001b[0m\u001b[1;33m.\u001b[0m\u001b[0mcolumns\u001b[0m\u001b[1;33m.\u001b[0m\u001b[0mtolist\u001b[0m\u001b[1;33m(\u001b[0m\u001b[1;33m)\u001b[0m\u001b[1;33m\u001b[0m\u001b[0m\n\u001b[0;32m      6\u001b[0m     \u001b[0my1\u001b[0m \u001b[1;33m=\u001b[0m \u001b[0mg\u001b[0m\u001b[1;33m[\u001b[0m\u001b[1;34m'WaterElevation'\u001b[0m\u001b[1;33m]\u001b[0m\u001b[1;33m.\u001b[0m\u001b[0mvalues\u001b[0m\u001b[1;33m\u001b[0m\u001b[0m\n",
      "\u001b[1;32mc:\\users\\paulinkenbrandt\\documents\\github\\env\\lib\\site-packages\\wellapplication-0.2.13-py2.7.egg\\wellapplication\\transport.pyc\u001b[0m in \u001b[0;36mimp_new_well\u001b[1;34m(infile, wellinfo, manual, baro)\u001b[0m\n\u001b[0;32m    461\u001b[0m \u001b[1;33m\u001b[0m\u001b[0m\n\u001b[0;32m    462\u001b[0m         ''' \n\u001b[1;32m--> 463\u001b[1;33m         \u001b[0mwellname\u001b[0m\u001b[1;33m,\u001b[0m \u001b[0mwellid\u001b[0m \u001b[1;33m=\u001b[0m \u001b[0mtransport\u001b[0m\u001b[1;33m.\u001b[0m\u001b[0mgetwellid\u001b[0m\u001b[1;33m(\u001b[0m\u001b[0minfile\u001b[0m\u001b[1;33m,\u001b[0m\u001b[0mwellinfo\u001b[0m\u001b[1;33m)\u001b[0m \u001b[1;31m#see custom getwellid function\u001b[0m\u001b[1;33m\u001b[0m\u001b[0m\n\u001b[0m\u001b[0;32m    464\u001b[0m         \u001b[1;32mprint\u001b[0m\u001b[1;33m(\u001b[0m\u001b[1;34m'Well = '\u001b[0m \u001b[1;33m+\u001b[0m \u001b[0mwellname\u001b[0m\u001b[1;33m)\u001b[0m\u001b[1;33m\u001b[0m\u001b[0m\n\u001b[0;32m    465\u001b[0m         \u001b[1;32mif\u001b[0m \u001b[0mwellinfo\u001b[0m\u001b[1;33m[\u001b[0m\u001b[0mwellinfo\u001b[0m\u001b[1;33m[\u001b[0m\u001b[1;34m'Well'\u001b[0m\u001b[1;33m]\u001b[0m\u001b[1;33m==\u001b[0m\u001b[0mwellname\u001b[0m\u001b[1;33m]\u001b[0m\u001b[1;33m[\u001b[0m\u001b[1;34m'LoggerTypeName'\u001b[0m\u001b[1;33m]\u001b[0m\u001b[1;33m.\u001b[0m\u001b[0mvalues\u001b[0m\u001b[1;33m[\u001b[0m\u001b[1;36m0\u001b[0m\u001b[1;33m]\u001b[0m \u001b[1;33m==\u001b[0m \u001b[1;34m'Solinst'\u001b[0m\u001b[1;33m:\u001b[0m \u001b[1;31m# Reads Solinst Raw File\u001b[0m\u001b[1;33m\u001b[0m\u001b[0m\n",
      "\u001b[1;32mc:\\users\\paulinkenbrandt\\documents\\github\\env\\lib\\site-packages\\wellapplication-0.2.13-py2.7.egg\\wellapplication\\transport.pyc\u001b[0m in \u001b[0;36mgetwellid\u001b[1;34m(infile, wellinfo)\u001b[0m\n\u001b[0;32m     68\u001b[0m         \u001b[1;32melse\u001b[0m\u001b[1;33m:\u001b[0m\u001b[1;33m\u001b[0m\u001b[0m\n\u001b[0;32m     69\u001b[0m             \u001b[0mwellname\u001b[0m \u001b[1;33m=\u001b[0m \u001b[0mtransport\u001b[0m\u001b[1;33m.\u001b[0m\u001b[0mgetfilename\u001b[0m\u001b[1;33m(\u001b[0m\u001b[0minfile\u001b[0m\u001b[1;33m)\u001b[0m\u001b[1;33m[\u001b[0m\u001b[1;36m0\u001b[0m\u001b[1;33m:\u001b[0m\u001b[0ms\u001b[0m\u001b[1;33m.\u001b[0m\u001b[0mstart\u001b[0m\u001b[1;33m(\u001b[0m\u001b[1;33m)\u001b[0m\u001b[1;33m]\u001b[0m\u001b[1;33m.\u001b[0m\u001b[0mstrip\u001b[0m\u001b[1;33m(\u001b[0m\u001b[1;33m)\u001b[0m\u001b[1;33m.\u001b[0m\u001b[0mlower\u001b[0m\u001b[1;33m(\u001b[0m\u001b[1;33m)\u001b[0m\u001b[1;33m\u001b[0m\u001b[0m\n\u001b[1;32m---> 70\u001b[1;33m         \u001b[0mwellid\u001b[0m \u001b[1;33m=\u001b[0m \u001b[0mwellinfo\u001b[0m\u001b[1;33m[\u001b[0m\u001b[0mwellinfo\u001b[0m\u001b[1;33m[\u001b[0m\u001b[1;34m'Well'\u001b[0m\u001b[1;33m]\u001b[0m\u001b[1;33m==\u001b[0m\u001b[0mwellname\u001b[0m\u001b[1;33m]\u001b[0m\u001b[1;33m[\u001b[0m\u001b[1;34m'WellID'\u001b[0m\u001b[1;33m]\u001b[0m\u001b[1;33m.\u001b[0m\u001b[0mvalues\u001b[0m\u001b[1;33m[\u001b[0m\u001b[1;36m0\u001b[0m\u001b[1;33m]\u001b[0m\u001b[1;33m\u001b[0m\u001b[0m\n\u001b[0m\u001b[0;32m     71\u001b[0m         \u001b[1;32mreturn\u001b[0m \u001b[0mwellname\u001b[0m\u001b[1;33m,\u001b[0m \u001b[0mwellid\u001b[0m\u001b[1;33m\u001b[0m\u001b[0m\n\u001b[0;32m     72\u001b[0m \u001b[1;33m\u001b[0m\u001b[0m\n",
      "\u001b[1;31mIndexError\u001b[0m: index 0 is out of bounds for axis 0 with size 0"
     ]
    }
   ],
   "source": [
    "for i in wells.value:\n",
    "    print folder+'/'+i\n",
    "    inputfile = folder +'/'+i\n",
    "    g, drift, wellname = svdi.imp_new_well(inputfile, wellinfo, manual, baro)\n",
    "    glist = g.columns.tolist()\n",
    "    y1 = g['WaterElevation'].values\n",
    "    y2 = baro['pw03'].values\n",
    "    x1 = g.index.values\n",
    "    x2 = baro.index.values\n",
    "    wellname, wellid = svdi.getwellid(folder+'\\\\'+i,wellinfo)\n",
    "    ylast = wellinfo[wellinfo['WellID']==wellid]['GroundElevation'].values[0] + wellinfo[wellinfo['WellID']==wellid]['Offset'].values[0] - svdi.fcl(manual[manual['WellID']== wellid],max(g.index.to_datetime()))[1]\n",
    "    yfirst = wellinfo[wellinfo['WellID']==wellid]['GroundElevation'].values[0] + wellinfo[wellinfo['WellID']==wellid]['Offset'].values[0] - svdi.fcl(manual[manual['WellID']== wellid],min(g.index.to_datetime()))[1]\n",
    "    xlast = pd.to_datetime((svdi.fcl(manual[manual['WellID']== wellid],max(pd.to_datetime(g.index)))).name)\n",
    "    xfirst = pd.to_datetime((svdi.fcl(manual[manual['WellID']== wellid],min(pd.to_datetime(g.index)))).name)\n",
    "    x4 = [xfirst,xlast]\n",
    "    y4 = [yfirst,ylast]\n",
    "    fig, ax1 = plt.subplots()\n",
    "    ax1.scatter(x4,y4,color='purple')\n",
    "    ax1.plot(x1,y1,color='blue',label='Water Level Elevation')\n",
    "    ax1.set_ylabel('Water Level Elevation',color='blue')\n",
    "    y_formatter = tick.ScalarFormatter(useOffset=False)\n",
    "    ax1.yaxis.set_major_formatter(y_formatter)\n",
    "    ax2 = ax1.twinx()\n",
    "    ax2.set_ylabel('Barometric Pressure (ft)', color='red') \n",
    "    ax2.plot(x2,y2,color='red',label='Barometric pressure (ft)')\n",
    "    h1, l1 = ax1.get_legend_handles_labels()\n",
    "    h2, l2 = ax2.get_legend_handles_labels()\n",
    "    ax1.legend(h1+h2, l1+l2, loc=3)\n",
    "    plt.xlim(xfirst-timedelta(days=3),xlast+timedelta(days=3))\n",
    "    plt.title('Well: ' + wellname.title() + '  ' + 'Total Drift = ' + str(g['DriftCorrection'][-1]))"
   ]
  },
  {
   "cell_type": "code",
   "execution_count": 65,
   "metadata": {
    "collapsed": false
   },
   "outputs": [
    {
     "name": "stdout",
     "output_type": "stream",
     "text": [
      "M:/PROJECTS/Snake Valley Water/Transducer Data/Raw_data_archive/2016//sg23b 2016-05-02.xle\n",
      "Well = sg23b\n",
      "Dropped from end to 2016-05-02 15:00:00\n",
      "No BP match, using pw03\n",
      "Efficiency = 0.1\n",
      "Max Drift = -0.0355\n",
      "Added to DB table reading\n",
      "DONE!\n",
      "Files in M:/PROJECTS/Snake Valley Water/Transducer Data/Raw_data_archive/2016/\\wells.pdf\n",
      "2016-05-31 10:58:52.224000\n"
     ]
    }
   ],
   "source": [
    "pdf_pages = PdfPages(folder + '/' + pdfName.value + '.pdf')\n",
    "for i in wells.value:\n",
    "    print folder+'/'+i\n",
    "    inputfile = folder +'/'+i\n",
    "    g, drift, wellname = svdi.imp_new_well(inputfile, wellinfo, manual, baro)\n",
    "    quer = \"SELECT * FROM groundwater.reading where WellID = \" + str(g['WellID'].values[0]) + \" and DateTime > \\'\" + str(g.index.values[-1])[0:10] + \" \"+ str(g.index.values[-1])[11:19] + \"\\'\"\n",
    "\n",
    "    if abs(float(drift)) < driftTol.value:\n",
    "        if len(pd.read_sql_query(sql=quer,con=engine))<1:\n",
    "            g.to_csv(enteredFolder+wellname+\".csv\", index=False)\n",
    "            tablename = 'reading'\n",
    "            g.to_sql(con=engine, name = tablename, if_exists='append', flavor='mysql', index=False)\n",
    "            print(\"Added to DB table \" + tablename)\n",
    "        else:\n",
    "            print(\"Already Entered\")\n",
    "            print(len(pd.read_sql_query(sql=quer,con=engine)))\n",
    "    else:\n",
    "        g.to_csv(checkFolder+wellname+\".csv\", index=False, columns= [\"WellID\",\"DateTime\",\"MeasuredLevel\",\"Temp\",\"BaroEfficiencyCorrected\",\"DeltaLevel\",\n",
    "                                             \"MeasuredDTW\",\"DriftCorrection\",\"DTWBelowCasing\",\"DTWBelowGroundSurface\",\n",
    "                                             \"WaterElevation\",\"Tape\",\"MeasuredBy\"])\n",
    "        print(\"Check File\")\n",
    "    glist = g.columns.tolist()\n",
    "    for j in range(len(glist)):\n",
    "        if 'pw' in glist[j]:\n",
    "            h = glist[j]\n",
    "    y1 = g['WaterElevation'].values\n",
    "    y2 = baro['pw03'].values\n",
    "    x1 = g.index.values\n",
    "    x2 = baro.index.values\n",
    "    wellname, wellid = svdi.getwellid(folder+'\\\\'+i,wellinfo)\n",
    "    ylast = wellinfo[wellinfo['WellID']==wellid]['GroundElevation'].values[0] + wellinfo[wellinfo['WellID']==wellid]['Offset'].values[0] - svdi.fcl(manual[manual['WellID']== wellid],max(pd.to_datetime(g.index)))[1]\n",
    "    yfirst = wellinfo[wellinfo['WellID']==wellid]['GroundElevation'].values[0] + wellinfo[wellinfo['WellID']==wellid]['Offset'].values[0] - svdi.fcl(manual[manual['WellID']== wellid],min(pd.to_datetime(g.index)))[1]\n",
    "    xlast = pd.to_datetime(svdi.fcl(manual[manual['WellID']== wellid],max(pd.to_datetime(g.index))).name)\n",
    "    xfirst = pd.to_datetime(svdi.fcl(manual[manual['WellID']== wellid],min(pd.to_datetime(g.index))).name)\n",
    "    x4 = [xfirst,xlast]\n",
    "    y4 = [yfirst,ylast]\n",
    "    fig, ax1 = plt.subplots()\n",
    "    ax1.scatter(x4,y4,color='purple')\n",
    "    ax1.plot(x1,y1,color='blue',label='Water Level Elevation')\n",
    "    ax1.set_ylabel('Water Level Elevation',color='blue')\n",
    "    y_formatter = tick.ScalarFormatter(useOffset=False)\n",
    "    ax1.yaxis.set_major_formatter(y_formatter)\n",
    "    ax2 = ax1.twinx()\n",
    "    ax2.set_ylabel('Barometric Pressure (ft)', color='red') \n",
    "    ax2.plot(x2,y2,color='red',label='Barometric pressure (ft)')\n",
    "    h1, l1 = ax1.get_legend_handles_labels()\n",
    "    h2, l2 = ax2.get_legend_handles_labels()\n",
    "    ax1.legend(h1+h2, l1+l2, loc=3)\n",
    "    plt.xlim(xfirst-timedelta(days=3),xlast+timedelta(days=3))\n",
    "    plt.title('Well: ' + wellname.title() + '  ' + 'Total Drift = ' + str(g['DriftCorrection'][-1]))\n",
    "    \n",
    "    pdf_pages.savefig(fig)\n",
    "    plt.close()\n",
    "pdf_pages.close()\n",
    "print(\"DONE!\")\n",
    "print(\"Files in \"+ folder+'\\\\wells.pdf')\n",
    "print(datetime.now())"
   ]
  },
  {
   "cell_type": "markdown",
   "metadata": {},
   "source": [
    "### Add All Wells (with small drift)"
   ]
  },
  {
   "cell_type": "code",
   "execution_count": 24,
   "metadata": {
    "collapsed": true
   },
   "outputs": [],
   "source": [
    "form = widgets.VBox()\n",
    "driftTol = widgets.FloatSlider(value=0.05, min=0.00, max=10.0, step=0.05, description='Drift Tolerance:')\n",
    "form.children = [driftTol]\n",
    "display(form)"
   ]
  },
  {
   "cell_type": "code",
   "execution_count": 28,
   "metadata": {
    "collapsed": false,
    "scrolled": false
   },
   "outputs": [
    {
     "name": "stdout",
     "output_type": "stream",
     "text": [
      "M:/PROJECTS/Snake Valley Water/Transducer Data/Raw_data_archive/2016/2016 q2//ag13a 2016-08-02.xle\n",
      "Well = ag13a\n",
      "No BP match, using pw03\n",
      "Efficiency = 0.15\n",
      "Max Drift = 0.0044\n",
      "Added to DB\n",
      "M:/PROJECTS/Snake Valley Water/Transducer Data/Raw_data_archive/2016/2016 q2//ag13b 2016-08-02.xle\n",
      "Well = ag13b\n",
      "No BP match, using pw03\n",
      "Efficiency = 0.3\n",
      "Max Drift = 0.0478\n",
      "Added to DB\n",
      "M:/PROJECTS/Snake Valley Water/Transducer Data/Raw_data_archive/2016/2016 q2//ag13c 2016-08-02.xle\n",
      "Well = ag13c\n",
      "No BP match, using pw03\n",
      "Efficiency = 0.35\n",
      "Max Drift = 1.0855\n",
      "Check File\n",
      "M:/PROJECTS/Snake Valley Water/Transducer Data/Raw_data_archive/2016/2016 q2//ag14a 2016-08-02.csv\n",
      "Well = ag14a\n",
      "Efficiency = 0.0\n",
      "Max Drift = 0.01\n",
      "Added to DB\n",
      "M:/PROJECTS/Snake Valley Water/Transducer Data/Raw_data_archive/2016/2016 q2//ag14b 2016-08-02.csv\n",
      "Well = ag14b\n",
      "Efficiency = 0.0\n",
      "Max Drift = 0.02\n",
      "Added to DB\n",
      "M:/PROJECTS/Snake Valley Water/Transducer Data/Raw_data_archive/2016/2016 q2//ag14c 2016-08-02.xle\n",
      "Well = ag14c\n",
      "No BP match, using pw03\n",
      "Efficiency = 0.15\n",
      "Max Drift = 0.0524\n",
      "Check File\n",
      "M:/PROJECTS/Snake Valley Water/Transducer Data/Raw_data_archive/2016/2016 q2//ag15 2016-08-02.csv\n",
      "Well = ag15\n",
      "Efficiency = 0.0\n",
      "Max Drift = 0.03\n",
      "Added to DB\n",
      "M:/PROJECTS/Snake Valley Water/Transducer Data/Raw_data_archive/2016/2016 q2//ag16a 2016-08-02.xle\n",
      "Well = ag16a\n",
      "No BP match, using pw03\n",
      "Efficiency = 0.1\n",
      "Max Drift = -0.0016\n",
      "Added to DB\n",
      "M:/PROJECTS/Snake Valley Water/Transducer Data/Raw_data_archive/2016/2016 q2//ag16b 2016-08-02.xle\n",
      "Well = ag16b\n",
      "No BP match, using pw03\n",
      "Efficiency = 0.1\n",
      "Max Drift = 0.2177\n",
      "Check File\n",
      "M:/PROJECTS/Snake Valley Water/Transducer Data/Raw_data_archive/2016/2016 q2//central tule mx 2016-08-03.xle\n",
      "Well = central tule mx\n",
      "No BP match, using pw03\n",
      "Efficiency = 0.3\n",
      "Max Drift = 0.0763\n",
      "Check File\n",
      "M:/PROJECTS/Snake Valley Water/Transducer Data/Raw_data_archive/2016/2016 q2//eskdale mx 2016-08-02.csv\n",
      "Well = eskdale mx\n",
      "Efficiency = 0.0\n",
      "Max Drift = -0.41\n",
      "Check File\n",
      "M:/PROJECTS/Snake Valley Water/Transducer Data/Raw_data_archive/2016/2016 q2//pw01a 2016-08-02.xle\n",
      "Well = pw01a\n",
      "No BP match, using pw03\n",
      "Efficiency = 0.0\n",
      "Max Drift = 0.0289\n",
      "Added to DB\n",
      "M:/PROJECTS/Snake Valley Water/Transducer Data/Raw_data_archive/2016/2016 q2//pw01b 2016-08-02.xle\n",
      "Well = pw01b\n",
      "No BP match, using pw03\n",
      "Efficiency = 0.0\n",
      "Max Drift = 0.0384\n",
      "Added to DB\n",
      "M:/PROJECTS/Snake Valley Water/Transducer Data/Raw_data_archive/2016/2016 q2//pw01c 2016-08-02.csv\n",
      "Well = pw01c\n",
      "Efficiency = 0.0\n",
      "Max Drift = 0.3967\n",
      "Check File\n",
      "M:/PROJECTS/Snake Valley Water/Transducer Data/Raw_data_archive/2016/2016 q2//pw02a 2016-08-01.xle\n",
      "Well = pw02a\n",
      "No BP match, using pw03\n",
      "Efficiency = 0.0\n",
      "Max Drift = 0.0184\n",
      "Added to DB\n",
      "M:/PROJECTS/Snake Valley Water/Transducer Data/Raw_data_archive/2016/2016 q2//pw02b 2016-08-01.xle\n",
      "Well = pw02b\n",
      "No BP match, using pw03\n",
      "Efficiency = 0.2\n",
      "Max Drift = 0.0268\n",
      "Added to DB\n",
      "M:/PROJECTS/Snake Valley Water/Transducer Data/Raw_data_archive/2016/2016 q2//pw03a 2016-08-03.xle\n",
      "Well = pw03a\n",
      "No BP match, using pw03\n",
      "Efficiency = 0.0\n",
      "Max Drift = 0.0454\n",
      "Added to DB\n",
      "M:/PROJECTS/Snake Valley Water/Transducer Data/Raw_data_archive/2016/2016 q2//pw03b 2016-08-03.xle\n",
      "Well = pw03b\n",
      "No BP match, using pw03\n",
      "Efficiency = 0.2\n",
      "Max Drift = 0.0624\n",
      "Check File\n",
      "M:/PROJECTS/Snake Valley Water/Transducer Data/Raw_data_archive/2016/2016 q2//pw03z 2016-08-03.xle\n",
      "Well = pw03z\n",
      "No BP match, using pw03\n",
      "Efficiency = 0.0\n",
      "Max Drift = 0.061\n",
      "Check File\n",
      "M:/PROJECTS/Snake Valley Water/Transducer Data/Raw_data_archive/2016/2016 q2//pw04a 2016-08-02.csv\n",
      "Well = pw04a\n",
      "Efficiency = 0.33\n",
      "Max Drift = 0.0465\n",
      "Added to DB\n",
      "M:/PROJECTS/Snake Valley Water/Transducer Data/Raw_data_archive/2016/2016 q2//pw04b 2016-08-02.csv\n",
      "Well = pw04b\n",
      "Dropped from beginning to 2\n",
      "Efficiency = 0.33\n",
      "Max Drift = 0.0597\n",
      "Check File\n",
      "M:/PROJECTS/Snake Valley Water/Transducer Data/Raw_data_archive/2016/2016 q2//pw05a 2016-08-02.xle\n",
      "Well = pw05a\n",
      "No BP match, using pw03\n",
      "Efficiency = 0.1\n",
      "Max Drift = 0.0459\n",
      "Added to DB\n",
      "M:/PROJECTS/Snake Valley Water/Transducer Data/Raw_data_archive/2016/2016 q2//pw05b 2016-08-02.csv\n",
      "Well = pw05b\n",
      "Efficiency = 0.25\n",
      "Max Drift = 0.1383\n",
      "Check File\n",
      "M:/PROJECTS/Snake Valley Water/Transducer Data/Raw_data_archive/2016/2016 q2//pw05c 2016-08-02.csv\n",
      "Well = pw05c\n",
      "Efficiency = 0.3\n",
      "Max Drift = 0.0588\n",
      "Check File\n",
      "M:/PROJECTS/Snake Valley Water/Transducer Data/Raw_data_archive/2016/2016 q2//pw06a 2016-08-02.csv\n",
      "Well = pw06a\n",
      "Efficiency = 0.0\n",
      "Max Drift = 0.1\n",
      "Check File\n",
      "M:/PROJECTS/Snake Valley Water/Transducer Data/Raw_data_archive/2016/2016 q2//pw06b 2016-08-02.xle\n",
      "Well = pw06b\n",
      "No BP match, using pw03\n",
      "Efficiency = 0.1\n",
      "Max Drift = 0.0165\n",
      "Added to DB\n",
      "M:/PROJECTS/Snake Valley Water/Transducer Data/Raw_data_archive/2016/2016 q2//pw06c 2016-08-02.csv\n",
      "Well = pw06c\n",
      "Dropped from beginning to 1\n",
      "Efficiency = 0.1\n",
      "Max Drift = 0.0506\n",
      "Check File\n",
      "M:/PROJECTS/Snake Valley Water/Transducer Data/Raw_data_archive/2016/2016 q2//pw06d 2016-08-02.csv\n",
      "Well = pw06d\n",
      "Dropped from end to 2183\n",
      "Efficiency = 0.1\n",
      "Max Drift = 0.0832\n",
      "Check File\n",
      "M:/PROJECTS/Snake Valley Water/Transducer Data/Raw_data_archive/2016/2016 q2//pw06mx 2016-08-02.xle\n",
      "Well = pw06mx\n",
      "No BP match, using pw03\n",
      "Efficiency = 0.3\n",
      "Max Drift = -0.2017\n",
      "Check File\n",
      "M:/PROJECTS/Snake Valley Water/Transducer Data/Raw_data_archive/2016/2016 q2//pw07a 2016-08-01.xle\n",
      "Well = pw07a\n",
      "No BP match, using pw03\n",
      "Efficiency = 0.35\n",
      "Max Drift = 0.0636\n",
      "Check File\n",
      "M:/PROJECTS/Snake Valley Water/Transducer Data/Raw_data_archive/2016/2016 q2//pw07b 2016-08-01.csv\n",
      "Well = pw07b\n",
      "Dropped from beginning to 1\n",
      "Efficiency = 0.55\n",
      "Max Drift = -0.1332\n",
      "Check File\n",
      "M:/PROJECTS/Snake Valley Water/Transducer Data/Raw_data_archive/2016/2016 q2//pw08a 2016-08-01.xle\n",
      "Well = pw08a\n",
      "No BP match, using pw03\n",
      "Efficiency = 0.2\n",
      "Max Drift = 0.023\n",
      "Added to DB\n",
      "M:/PROJECTS/Snake Valley Water/Transducer Data/Raw_data_archive/2016/2016 q2//pw08b 2016-08-01.xle\n",
      "Well = pw08b\n",
      "Dropped from end to 2016-08-01 13:00:00\n",
      "No BP match, using pw03\n",
      "Efficiency = 0.2\n",
      "Max Drift = 0.0941\n",
      "Check File\n",
      "M:/PROJECTS/Snake Valley Water/Transducer Data/Raw_data_archive/2016/2016 q2//pw09a 2016-08-02.csv\n",
      "Well = pw09a\n",
      "Dropped from beginning to 1\n",
      "Dropped from end to 1389\n",
      "Dropped from end to 1391\n",
      "Efficiency = 0.0\n",
      "Max Drift = -0.0147\n",
      "Added to DB\n",
      "M:/PROJECTS/Snake Valley Water/Transducer Data/Raw_data_archive/2016/2016 q2//pw09b 2016-08-02.csv\n",
      "Well = pw09b\n",
      "Efficiency = 0.1\n",
      "Max Drift = -0.0563\n",
      "Check File\n",
      "M:/PROJECTS/Snake Valley Water/Transducer Data/Raw_data_archive/2016/2016 q2//pw10a 2016-08-03.xle\n",
      "Well = pw10a\n",
      "No BP match, using pw03\n",
      "Efficiency = 0.5\n",
      "Max Drift = -0.0515\n",
      "Check File\n",
      "M:/PROJECTS/Snake Valley Water/Transducer Data/Raw_data_archive/2016/2016 q2//pw10b 2016-08-03.csv\n",
      "Well = pw10b\n",
      "Dropped from beginning to 3\n",
      "Efficiency = 0.25\n",
      "Max Drift = 0.0201\n",
      "Added to DB\n",
      "M:/PROJECTS/Snake Valley Water/Transducer Data/Raw_data_archive/2016/2016 q2//pw11b 2016-08-01.csv\n",
      "Well = pw11b\n",
      "Efficiency = 0.15\n",
      "Max Drift = -0.9313\n",
      "Check File\n",
      "M:/PROJECTS/Snake Valley Water/Transducer Data/Raw_data_archive/2016/2016 q2//pw11c 2016-08-01.csv\n",
      "Well = pw11c\n",
      "Efficiency = 0.15\n",
      "Max Drift = -0.9119\n",
      "Check File\n",
      "M:/PROJECTS/Snake Valley Water/Transducer Data/Raw_data_archive/2016/2016 q2//pw11e 2016-08-01.xle\n",
      "Well = pw11e\n",
      "No BP match, using pw03\n",
      "Efficiency = 0.15\n",
      "Max Drift = 0.0551\n",
      "Check File\n",
      "M:/PROJECTS/Snake Valley Water/Transducer Data/Raw_data_archive/2016/2016 q2//pw17a 2016-08-03.csv\n",
      "Well = pw17a\n",
      "Efficiency = 0.15\n",
      "Max Drift = 0.0055\n",
      "Added to DB\n",
      "M:/PROJECTS/Snake Valley Water/Transducer Data/Raw_data_archive/2016/2016 q2//pw17b 2016-08-03.xle\n",
      "Well = pw17b\n",
      "No BP match, using pw03\n",
      "Efficiency = 0.2\n",
      "Max Drift = 0.1012\n",
      "Check File\n",
      "M:/PROJECTS/Snake Valley Water/Transducer Data/Raw_data_archive/2016/2016 q2//pw17c 2016-08-03.csv\n",
      "Well = pw17c\n",
      "Efficiency = 0.2\n",
      "Max Drift = 0.0407\n",
      "Added to DB\n",
      "M:/PROJECTS/Snake Valley Water/Transducer Data/Raw_data_archive/2016/2016 q2//pw19b 2016-08-04.csv\n",
      "Well = pw19b\n",
      "Efficiency = 0.25\n",
      "Max Drift = 0.012\n",
      "Added to DB\n",
      "M:/PROJECTS/Snake Valley Water/Transducer Data/Raw_data_archive/2016/2016 q2//pw19c 2016-08-04.xle\n",
      "Well = pw19c\n",
      "No BP match, using pw03\n",
      "Efficiency = 0.3\n",
      "Max Drift = -0.0845\n",
      "Check File\n",
      "M:/PROJECTS/Snake Valley Water/Transducer Data/Raw_data_archive/2016/2016 q2//sg21a 2016-08-04.xle\n",
      "Well = sg21a\n",
      "No BP match, using pw03\n",
      "Efficiency = 0.0\n",
      "Max Drift = -0.0525\n",
      "Check File\n",
      "M:/PROJECTS/Snake Valley Water/Transducer Data/Raw_data_archive/2016/2016 q2//sg21b 2016-08-04.xle\n",
      "Well = sg21b\n",
      "No BP match, using pw03\n",
      "Efficiency = 0.0\n",
      "Max Drift = -0.0116\n",
      "Added to DB\n",
      "M:/PROJECTS/Snake Valley Water/Transducer Data/Raw_data_archive/2016/2016 q2//sg21c 2016-08-04.xle\n",
      "Well = sg21c\n",
      "No BP match, using pw03\n",
      "Efficiency = 0.1\n",
      "Max Drift = -0.0879\n",
      "Check File\n",
      "M:/PROJECTS/Snake Valley Water/Transducer Data/Raw_data_archive/2016/2016 q2//sg22a 2016-08-04.xle\n",
      "Well = sg22a\n",
      "No BP match, using pw03\n",
      "Efficiency = 0.0\n",
      "Max Drift = -0.0397\n",
      "Added to DB\n",
      "M:/PROJECTS/Snake Valley Water/Transducer Data/Raw_data_archive/2016/2016 q2//sg22b 2016-08-04.xle\n",
      "Well = sg22b\n",
      "No BP match, using pw03\n",
      "Efficiency = 0.0\n",
      "Max Drift = 0.7644\n",
      "Check File\n",
      "M:/PROJECTS/Snake Valley Water/Transducer Data/Raw_data_archive/2016/2016 q2//sg23b 2016-08-01.xle\n",
      "Well = sg23b\n",
      "No BP match, using pw03\n",
      "Efficiency = 0.1\n",
      "Max Drift = 0.0101\n",
      "Added to DB\n",
      "M:/PROJECTS/Snake Valley Water/Transducer Data/Raw_data_archive/2016/2016 q2//sg24b 2016-08-02.xle\n",
      "Well = sg24b\n",
      "No BP match, using pw03\n",
      "Efficiency = 0.0\n",
      "Max Drift = 0.0465\n",
      "Added to DB\n",
      "M:/PROJECTS/Snake Valley Water/Transducer Data/Raw_data_archive/2016/2016 q2//sg24c 2016-08-02.xle\n",
      "Well = sg24c\n",
      "No BP match, using pw03\n",
      "Efficiency = 0.0\n",
      "Max Drift = 0.0826\n",
      "Check File\n",
      "M:/PROJECTS/Snake Valley Water/Transducer Data/Raw_data_archive/2016/2016 q2//sg25a 2016-08-03.xle\n",
      "Well = sg25a\n",
      "No BP match, using pw03\n",
      "Efficiency = 0.0\n",
      "Max Drift = 0.088\n",
      "Check File\n",
      "M:/PROJECTS/Snake Valley Water/Transducer Data/Raw_data_archive/2016/2016 q2//sg25b 2016-08-03.xle\n",
      "Well = sg25b\n",
      "No BP match, using pw03\n",
      "Efficiency = 0.0\n",
      "Max Drift = 0.002\n",
      "Added to DB\n",
      "M:/PROJECTS/Snake Valley Water/Transducer Data/Raw_data_archive/2016/2016 q2//sg25c 2016-08-03.xle\n",
      "Well = sg25c\n",
      "Dropped from beginning to 2016-05-04 10:00:00\n",
      "No BP match, using pw03\n",
      "Efficiency = 0.1\n",
      "Max Drift = 0.0067\n",
      "Added to DB\n",
      "M:/PROJECTS/Snake Valley Water/Transducer Data/Raw_data_archive/2016/2016 q2//sg25d 2016-08-03.xle\n",
      "Well = sg25d\n",
      "No BP match, using pw03\n",
      "Efficiency = 0.0\n",
      "Max Drift = 0.0503\n",
      "Check File\n",
      "M:/PROJECTS/Snake Valley Water/Transducer Data/Raw_data_archive/2016/2016 q2//sg26a 2016-08-03.xle\n",
      "Well = sg26a\n",
      "No BP match, using pw03\n",
      "Efficiency = 0.0\n",
      "Max Drift = 0.2094\n",
      "Check File\n",
      "M:/PROJECTS/Snake Valley Water/Transducer Data/Raw_data_archive/2016/2016 q2//snake valley north mx 2016-08-02.xle\n",
      "Well = snake valley north mx\n",
      "No BP match, using pw03\n",
      "Efficiency = 0.0\n",
      "Max Drift = 0.032\n",
      "Added to DB\n",
      "M:/PROJECTS/Snake Valley Water/Transducer Data/Raw_data_archive/2016/2016 q2//snake valley south mx 2016-08-01.xle\n",
      "Well = snake valley south mx\n",
      "Dropped from beginning to 2016-05-02 17:00:00\n",
      "Dropped from end to 2016-08-01 16:00:00\n",
      "No BP match, using pw03\n",
      "Efficiency = 0.0\n",
      "Max Drift = 0.002\n",
      "Added to DB\n",
      "M:/PROJECTS/Snake Valley Water/Transducer Data/Raw_data_archive/2016/2016 q2//twin springs mx 2016-08-02.xle\n",
      "Well = twin springs mx\n",
      "No BP match, using pw03\n",
      "Efficiency = 0.0\n",
      "Max Drift = 0.2386\n",
      "Check File\n",
      "M:/PROJECTS/Snake Valley Water/Transducer Data/Raw_data_archive/2016/2016 q2//needle point blm 2016-08-01.xle\n",
      "Well = needle point blm\n",
      "No BP match, using pw03\n",
      "Efficiency = 0.0\n",
      "Max Drift = 0.1556\n",
      "Check File\n",
      "M:/PROJECTS/Snake Valley Water/Transducer Data/Raw_data_archive/2016/2016 q2//coyote knolls mx 2016-08-03.xle\n",
      "Well = coyote knolls mx\n",
      "No BP match, using pw03\n",
      "Efficiency = 0.15\n",
      "Max Drift = 0.1108\n",
      "Check File\n",
      "DONE!\n",
      "Files in M:/PROJECTS/Snake Valley Water/Transducer Data/Raw_data_archive/2016/2016 q2/\\wells.pdf\n"
     ]
    }
   ],
   "source": [
    "pdf_pages = PdfPages(folder + '/wells.pdf')\n",
    "for i in wellinfo.loc[:,'full_file_name']:\n",
    "    print folder+'/'+i\n",
    "    inputfile = folder +'/'+i\n",
    "    g, drift, wellname = svdi.imp_new_well(inputfile, wellinfo, manual, baro)\n",
    "    quer = \"SELECT * FROM groundwater.reading where WellID = \" + str(g['WellID'].values[0]) + \" and (DateTime >= \\'\" + str(g.index.values[-1])[0:10] + \"\\')\"\n",
    "\n",
    "    if abs(float(drift)) < driftTol.value:\n",
    "        if len(pd.read_sql_query(sql=quer,con=engine))<1:\n",
    "            g.to_csv(enteredFolder + wellname+\".csv\", index=False)\n",
    "            g.to_sql(con=engine, name='reading', if_exists='append', flavor='mysql', index=False)\n",
    "            print(\"Added to DB\")\n",
    "        else:\n",
    "            print(\"Already Entered\")\n",
    "    else:\n",
    "        g.to_csv(checkFolder + wellname+\".csv\", index=False, columns= [\"WellID\",\"DateTime\",\"MeasuredLevel\",\"Temp\",\"BaroEfficiencyCorrected\",\"DeltaLevel\",\n",
    "                                             \"MeasuredDTW\",\"DriftCorrection\",\"DTWBelowCasing\",\"DTWBelowGroundSurface\",\n",
    "                                             \"WaterElevation\",\"Tape\",\"MeasuredBy\"])\n",
    "        print(\"Check File\")\n",
    "    glist = g.columns.tolist()\n",
    "    for j in range(len(glist)):\n",
    "        if 'pw' in glist[j]:\n",
    "            h = glist[j]\n",
    "    y1 = g['WaterElevation'].values\n",
    "    y2 = baro['pw03'].values\n",
    "    x1 = g.index.values\n",
    "    x2 = baro.index.values\n",
    "    wellname, wellid = svdi.getwellid(folder+'\\\\'+i,wellinfo)\n",
    "    ylast = wellinfo[wellinfo['WellID']==wellid]['GroundElevation'].values[0] + wellinfo[wellinfo['WellID']==wellid]['Offset'].values[0] - svdi.fcl(manual[manual['WellID']== wellid],max(pd.to_datetime(g.index)))[1]\n",
    "    yfirst = wellinfo[wellinfo['WellID']==wellid]['GroundElevation'].values[0] + wellinfo[wellinfo['WellID']==wellid]['Offset'].values[0] - svdi.fcl(manual[manual['WellID']== wellid],min(pd.to_datetime(g.index)))[1]\n",
    "    xlast = pd.to_datetime(svdi.fcl(manual[manual['WellID']== wellid],max(pd.to_datetime(g.index))).name)\n",
    "    xfirst = pd.to_datetime(svdi.fcl(manual[manual['WellID']== wellid],min(pd.to_datetime(g.index))).name)\n",
    "    x4 = [xfirst,xlast]\n",
    "    y4 = [yfirst,ylast]\n",
    "    fig, ax1 = plt.subplots()\n",
    "    ax1.scatter(x4,y4,color='purple')\n",
    "    ax1.plot(x1,y1,color='blue',label='Water Level Elevation')\n",
    "    ax1.set_ylabel('Water Level Elevation',color='blue')\n",
    "    y_formatter = tick.ScalarFormatter(useOffset=False)\n",
    "    ax1.yaxis.set_major_formatter(y_formatter)\n",
    "    ax2 = ax1.twinx()\n",
    "    ax2.set_ylabel('Barometric Pressure (ft)', color='red') \n",
    "    ax2.plot(x2,y2,color='red',label='Barometric pressure (ft)')\n",
    "    h1, l1 = ax1.get_legend_handles_labels()\n",
    "    h2, l2 = ax2.get_legend_handles_labels()\n",
    "    ax1.legend(h1+h2, l1+l2, loc=3)\n",
    "    plt.xlim(min(pd.to_datetime(g.index))-timedelta(days=3),max(pd.to_datetime(g.index))+timedelta(days=3))\n",
    "    plt.title('Well: ' + wellname.title() + '  ' + 'Total Drift = ' + str(g['DriftCorrection'][-1]))\n",
    "    \n",
    "    pdf_pages.savefig(fig)\n",
    "    plt.close()\n",
    "pdf_pages.close()\n",
    "print(\"DONE!\")\n",
    "print(\"Files in \"+ folder+'\\\\wells.pdf')"
   ]
  },
  {
   "cell_type": "code",
   "execution_count": 16,
   "metadata": {
    "collapsed": false
   },
   "outputs": [],
   "source": [
    "inputfile = 'M:/PROJECTS/Snake Valley Water/Transducer Data/Raw_data_archive/2016/pw06a 2016-05-03.csv'\n",
    "dd = pd.read_csv(inputfile, skiprows=1, parse_dates=[[0,1]])\n",
    "dd.reset_index(inplace=True)\n",
    "dd.set_index('Date_ Time', inplace=True)"
   ]
  },
  {
   "cell_type": "code",
   "execution_count": 23,
   "metadata": {
    "collapsed": false
   },
   "outputs": [],
   "source": [
    "dd['date'] = pd.to_datetime(dd.index).values"
   ]
  },
  {
   "cell_type": "code",
   "execution_count": 24,
   "metadata": {
    "collapsed": true
   },
   "outputs": [],
   "source": [
    "dd['datediff'] = dd['date'].diff()"
   ]
  },
  {
   "cell_type": "code",
   "execution_count": null,
   "metadata": {
    "collapsed": true
   },
   "outputs": [],
   "source": [
    "dd = svdi.hourly_resample(dd)"
   ]
  },
  {
   "cell_type": "code",
   "execution_count": null,
   "metadata": {
    "collapsed": true
   },
   "outputs": [],
   "source": [
    "dd"
   ]
  },
  {
   "cell_type": "markdown",
   "metadata": {},
   "source": [
    "#### Import One File"
   ]
  },
  {
   "cell_type": "markdown",
   "metadata": {},
   "source": [
    "### Combine Output"
   ]
  },
  {
   "cell_type": "code",
   "execution_count": null,
   "metadata": {
    "collapsed": false
   },
   "outputs": [],
   "source": [
    "q = {}\n",
    "\n",
    "for i in wellinfo.loc[:,'full_file_name']:\n",
    "    wellname, wellid = getwellid(folder+'\\\\'+i)\n",
    "    q[wellname] = imp_new_well(folder+'\\\\'+i, wellinfo, manual)\n"
   ]
  },
  {
   "cell_type": "code",
   "execution_count": null,
   "metadata": {
    "collapsed": false
   },
   "outputs": [],
   "source": [
    "q.names.to_list()"
   ]
  },
  {
   "cell_type": "code",
   "execution_count": null,
   "metadata": {
    "collapsed": false
   },
   "outputs": [],
   "source": [
    "alldf = ag13a.append(q)\n",
    "outpath = pathlist[0] + '\\\\' + pathlist[1] + '\\\\' + pathlist[2] + '\\\\' + pathlist[3] + '\\\\' + pathlist[4] + '\\\\' + 'all' + '.csv'\n",
    "alldf.to_csv(outpath, index=False, columns= [\"WellID\",\"DateTime\",\"MeasuredLevel\",\"Temp\",\"BaroEfficiencyCorrected\",\"DeltaLevel\",\n",
    "                                             \"MeasuredDTW\",\"DriftCorrection\",\"DTWBelowCasing\",\"DTWBelowGroundSurface\",\n",
    "                                             \"WaterElevation\",\"Tape\",\"MeasuredBy\"])"
   ]
  },
  {
   "cell_type": "code",
   "execution_count": null,
   "metadata": {
    "collapsed": false
   },
   "outputs": [],
   "source": [
    "dailyavgfiles = r\"U:\\GWP\\Snake Valley Water\\Transducer Data\\Individual Sites\\Daily Averages\""
   ]
  },
  {
   "cell_type": "code",
   "execution_count": null,
   "metadata": {
    "collapsed": false
   },
   "outputs": [],
   "source": [
    "well = r\"U:\\GWP\\Snake Valley Water\\Transducer Data\\Individual Sites\\Daily Averages\\ag13b.xlsx\""
   ]
  },
  {
   "cell_type": "code",
   "execution_count": null,
   "metadata": {
    "collapsed": false
   },
   "outputs": [],
   "source": [
    "hourly = pd.read_excel(well,'input',parse_dates=True,index_col='DateTime')\n",
    "hwl = hourly[\"WaterElevation\"].resample('D',how='mean')\n",
    "hwl = hwl.interpolate(how='Time')\n",
    "hwl.plot()"
   ]
  },
  {
   "cell_type": "code",
   "execution_count": null,
   "metadata": {
    "collapsed": true
   },
   "outputs": [],
   "source": []
  }
 ],
 "metadata": {
  "kernelspec": {
   "display_name": "Python 2",
   "language": "python",
   "name": "python2"
  },
  "language_info": {
   "codemirror_mode": {
    "name": "ipython",
    "version": 2
   },
   "file_extension": ".py",
   "mimetype": "text/x-python",
   "name": "python",
   "nbconvert_exporter": "python",
   "pygments_lexer": "ipython2",
   "version": "2.7.10"
  },
  "widgets": {
   "state": {
    "1da7ebd75f8744c080fe51139d677c52": {
     "views": []
    },
    "2d526f8094b34552bcbfb11ec3a985d8": {
     "views": [
      {
       "cell_index": 42
      }
     ]
    },
    "36a1ff721cf340f69d854b539c44c374": {
     "views": []
    },
    "75376eaebe184e3984e3a095d6058e91": {
     "views": []
    },
    "7bdcba48800e46e3a2d3b3c3015dfb9c": {
     "views": []
    },
    "812d5933e2a94fd2a8ebd068524deda0": {
     "views": []
    },
    "95901a07a7e64aefb938aa48fb6bf268": {
     "views": []
    },
    "a4d15b85ccb14f16928b1c8bb0388999": {
     "views": []
    },
    "aa97ed827ab74e77a161148871d0744d": {
     "views": []
    },
    "b3df03bec34e4e0699204bec9bc10ea3": {
     "views": []
    },
    "db67571b587c4e28af0acd714a02d438": {
     "views": [
      {
       "cell_index": 46
      }
     ]
    },
    "ec705c3ebe9c4ec59364c6c6a0777132": {
     "views": []
    }
   },
   "version": "1.1.1"
  }
 },
 "nbformat": 4,
 "nbformat_minor": 0
}
