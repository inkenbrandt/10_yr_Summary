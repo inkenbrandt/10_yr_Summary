{
 "cells": [
  {
   "cell_type": "code",
   "execution_count": 9,
   "metadata": {
    "collapsed": true
   },
   "outputs": [],
   "source": [
    "%matplotlib inline\n",
    "import os\n",
    "import sys\n",
    "import platform\n",
    "import matplotlib\n",
    "import pandas as pd\n",
    "import numpy as np\n",
    "import scipy as sp\n",
    "import statsmodels.api as sm\n",
    "import matplotlib.pyplot as plt\n",
    "import matplotlib.dates as dates\n",
    "import matplotlib.ticker as tick\n",
    "from matplotlib.backends.backend_pdf import PdfPages\n",
    "from datetime import datetime,timedelta\n",
    "#from pylab import rcParams\n",
    "\n",
    "#rcParams['figure.figsize'] = 10, 10"
   ]
  },
  {
   "cell_type": "code",
   "execution_count": 10,
   "metadata": {
    "collapsed": false
   },
   "outputs": [
    {
     "name": "stdout",
     "output_type": "stream",
     "text": [
      "Operating System Windows 7\n",
      "Python Version 2.7.8 (default, Jun 30 2014, 16:03:49) [MSC v.1500 32 bit (Intel)]\n",
      "Pandas Version 0.17.1\n",
      "Numpy Version 1.10.4\n",
      "Scipy Version 0.16.1\n",
      "Matplotlib Version 1.5.1\n"
     ]
    }
   ],
   "source": [
    "print(\"Operating System \" + platform.system() + \" \" + platform.release())\n",
    "print(\"Python Version \" + str(sys.version))\n",
    "print(\"Pandas Version \" + str(pd.__version__))\n",
    "print(\"Numpy Version \" + str(np.__version__))\n",
    "print(\"Scipy Version \" + str(sp.__version__))\n",
    "print(\"Matplotlib Version \" + str(matplotlib.__version__))"
   ]
  },
  {
   "cell_type": "markdown",
   "metadata": {},
   "source": [
    "https://github.com/PESTools/pestools"
   ]
  },
  {
   "cell_type": "markdown",
   "metadata": {},
   "source": [
    "http://docs.scipy.org/doc/scipy/reference/tutorial/optimize.html"
   ]
  },
  {
   "cell_type": "code",
   "execution_count": 96,
   "metadata": {
    "collapsed": true
   },
   "outputs": [],
   "source": [
    "def Theis(dist, T, S, pump, t):\n",
    "    if t <= 0:\n",
    "        return 0\n",
    "    else:\n",
    "        u = (np.power(dist,2)*S)/(4*T*t)\n",
    "        qpart = (pump/(4.0*np.pi*T))\n",
    "        lnpart = (-0.5772-np.log(u)+u-(np.power(u,2)/(2.0*np.math.factorial(2)))+(np.power(u,3)/(3*np.math.factorial(3)))-(np.power(u,4)/(4*np.math.factorial(4))))\n",
    "        return qpart*lnpart\n",
    "\n",
    "def pumprec(dist,T,S,pump,t,t1,t2):\n",
    "    return Theis(dist,T,S,pump,t-t1) + Theis(dist,T,S,-1*pump,t-t2)"
   ]
  },
  {
   "cell_type": "code",
   "execution_count": 100,
   "metadata": {
    "collapsed": false
   },
   "outputs": [
    {
     "data": {
      "text/plain": [
       "<matplotlib.collections.PathCollection at 0x1af58810>"
      ]
     },
     "execution_count": 100,
     "metadata": {},
     "output_type": "execute_result"
    },
    {
     "data": {
      "image/png": "[encoded data removed]",
      "text/plain": [
       "<matplotlib.figure.Figure at 0x15f20610>"
      ]
     },
     "metadata": {},
     "output_type": "display_data"
    }
   ],
   "source": [
    "\n",
    "T = 1000\n",
    "S = 0.001\n",
    "dist = 100\n",
    "\n",
    "rates = [10000,14000,12000,2000,500]\n",
    "starts = [0,170,250,200,400]\n",
    "ends = [100,300,500,600,450]\n",
    "\n",
    "timesteps = np.arange(0,ends[-1]*1.5,1)  \n",
    "\n",
    "h,g,i = [],[],[]\n",
    "\n",
    "\n",
    "def TheisPlot(T,S,dist,col):\n",
    "    h = []\n",
    "    for t in timesteps:\n",
    "        pint = 0\n",
    "        for i in range(len(rates)):\n",
    "            pint1 = pumprec(dist,T,S,rates[i],t,starts[i],ends[i])\n",
    "            pint = pint + pint1\n",
    "        h.append(pint)\n",
    "    plt.plot(timesteps, h, color=col)\n",
    "\n",
    "TheisPlot(1000,0.001,100, 'red')    \n",
    "TheisPlot(1000,0.001,500, 'blue')\n",
    "TheisPlot(1500,0.001,500, 'green')\n",
    "\n",
    "plt.scatter(t2, Theis(dist,T,S,-1*pump,t2-dur)+Theis(dist,T,S,pump,t2), color='red')\n",
    "#plt.ylim(0,1)"
   ]
  },
  {
   "cell_type": "code",
   "execution_count": 8,
   "metadata": {
    "collapsed": false
   },
   "outputs": [
    {
     "name": "stdout",
     "output_type": "stream",
     "text": [
      "1000\n"
     ]
    }
   ],
   "source": [
    "print(len(timesteps))"
   ]
  }
 ],
 "metadata": {
  "kernelspec": {
   "display_name": "Python 2",
   "language": "python",
   "name": "python2"
  },
  "language_info": {
   "codemirror_mode": {
    "name": "ipython",
    "version": 2
   },
   "file_extension": ".py",
   "mimetype": "text/x-python",
   "name": "python",
   "nbconvert_exporter": "python",
   "pygments_lexer": "ipython2",
   "version": "2.7.8"
  }
 },
 "nbformat": 4,
 "nbformat_minor": 0
}
