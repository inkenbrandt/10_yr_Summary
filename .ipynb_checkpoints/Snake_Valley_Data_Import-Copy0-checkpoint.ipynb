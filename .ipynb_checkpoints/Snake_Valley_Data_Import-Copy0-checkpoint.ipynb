{
 "cells": [
  {
   "cell_type": "code",
   "execution_count": null,
   "metadata": {
    "collapsed": false
   },
   "outputs": [],
   "source": [
    "%matplotlib inline\n",
    "import pandas as pd\n",
    "import numpy as np\n",
    "import os\n",
    "import matplotlib.pyplot as plt\n",
    "import matplotlib.dates as dates\n",
    "import matplotlib.ticker as tick\n",
    "from matplotlib.backends.backend_pdf import PdfPages\n",
    "\n",
    "from datetime import datetime\n",
    "from pylab import rcParams\n",
    "rcParams['figure.figsize'] = 15, 10"
   ]
  },
  {
   "cell_type": "code",
   "execution_count": null,
   "metadata": {
    "collapsed": false
   },
   "outputs": [],
   "source": [
    "import sys\n",
    "sys.path.append(r'C:\\Users\\PAULINKENBRANDT\\Documents\\GitHub\\Snake_Valley\\data_import')\n",
    "import Snake_Valley_Data_Import as svdi"
   ]
  },
  {
   "cell_type": "code",
   "execution_count": null,
   "metadata": {
    "collapsed": false
   },
   "outputs": [],
   "source": [
    "Drive = 'E'"
   ]
  },
  {
   "cell_type": "markdown",
   "metadata": {},
   "source": [
    "## Import Relevant Data"
   ]
  },
  {
   "cell_type": "markdown",
   "metadata": {},
   "source": [
    "### Well Information"
   ]
  },
  {
   "cell_type": "code",
   "execution_count": null,
   "metadata": {
    "collapsed": false
   },
   "outputs": [],
   "source": [
    "folder = Drive + ':\\\\Snake Valley Water\\\\Transducer Data\\\\Raw_data_archive\\\\2015\\\\2015 q2'\n",
    "wellinfofile = Drive + ':\\\\Snake Valley Water\\\\Transducer Data\\\\Raw_data_archive\\\\well table 2015-03-23.csv'"
   ]
  },
  {
   "cell_type": "code",
   "execution_count": null,
   "metadata": {
    "collapsed": false
   },
   "outputs": [],
   "source": [
    "wellinfo = pd.read_csv(Drive + ':\\\\Snake Valley Water\\\\Transducer Data\\\\Raw_data_archive\\\\well table 2015-03-23.csv',header=0,index_col=0)\n",
    "wellinfo[\"G_Elev_m\"] = wellinfo[\"GroundElevation\"]/3.2808\n",
    "wellinfo[\"Well\"] = wellinfo['Well'].apply(lambda x: str(x).lower().strip())\n",
    "wellinfo['WellID'] = wellinfo.index.values\n",
    "folder = Drive + \":\\\\Snake Valley Water\\\\Transducer Data\\\\Raw_data_archive\\\\2015\\\\2015 q2\\\\\"\n",
    "#wellinfo = svdi.barodistance(wellinfo)\n",
    "wellinfo = svdi.make_files_table(folder, wellinfo)"
   ]
  },
  {
   "cell_type": "markdown",
   "metadata": {},
   "source": [
    "### Manual Water Levels"
   ]
  },
  {
   "cell_type": "code",
   "execution_count": null,
   "metadata": {
    "collapsed": false
   },
   "outputs": [],
   "source": [
    "manualwls = Drive + \":\\\\Snake Valley Water\\\\Transducer Data\\\\Raw_data_archive\\\\All tape measurements.csv\"\n",
    "manual = pd.read_csv(manualwls, skiprows=0, parse_dates=0, index_col=\"DateTime\", engine=\"python\")"
   ]
  },
  {
   "cell_type": "markdown",
   "metadata": {},
   "source": [
    "### Barometric Pressure Data"
   ]
  },
  {
   "cell_type": "markdown",
   "metadata": {},
   "source": [
    "#### Compilation of Barometric Pressure Data"
   ]
  },
  {
   "cell_type": "code",
   "execution_count": null,
   "metadata": {
    "collapsed": false
   },
   "outputs": [],
   "source": [
    "pw03baro_append = Drive + \":\\\\Snake Valley Water\\\\Transducer Data\\\\Raw_data_archive\\\\2015\\\\2015 q1\\\\pw03 baro 2015-03-04.xle\"\n",
    "pw10baro_append = Drive + \":\\\\Snake Valley Water\\\\Transducer Data\\\\Raw_data_archive\\\\2015\\\\2015 q1\\\\pw10 baro 2015-03-04.xle\"\n",
    "pw19baro_append = Drive + \":\\\\Snake Valley Water\\\\Transducer Data\\\\Raw_data_archive\\\\2015\\\\2015 q1\\\\pw19 baro 2015-03-05.xle\""
   ]
  },
  {
   "cell_type": "code",
   "execution_count": null,
   "metadata": {
    "collapsed": false
   },
   "outputs": [],
   "source": [
    "pw03baro = Drive + \":\\\\Snake Valley Water\\\\Transducer Data\\\\Raw_data_archive\\\\pw03baro.csv\"\n",
    "pw10baro = Drive + \":\\\\Snake Valley Water\\\\Transducer Data\\\\Raw_data_archive\\\\pw10baro.csv\"\n",
    "pw19baro = Drive + \":\\\\Snake Valley Water\\\\Transducer Data\\\\Raw_data_archive\\\\pw19baro.csv\""
   ]
  },
  {
   "cell_type": "code",
   "execution_count": null,
   "metadata": {
    "collapsed": false
   },
   "outputs": [],
   "source": [
    "svdi.appendomatic(pw03baro_append,pw03baro)\n",
    "svdi.appendomatic(pw10baro_append,pw10baro)\n",
    "svdi.appendomatic(pw19baro_append,pw19baro)"
   ]
  },
  {
   "cell_type": "code",
   "execution_count": null,
   "metadata": {
    "collapsed": false
   },
   "outputs": [],
   "source": [
    "# duplicated to update changes made by appendomatic\n",
    "pw03baro = pd.read_csv(Drive + \":\\\\Snake Valley Water\\\\Transducer Data\\\\Raw_data_archive\\\\pw03baro.csv\",index_col='DateTime',parse_dates=True)\n",
    "pw10baro = pd.read_csv(Drive + \":\\\\Snake Valley Water\\\\Transducer Data\\\\Raw_data_archive\\\\pw10baro.csv\",index_col='DateTime',parse_dates=True)\n",
    "pw19baro = pd.read_csv(Drive + \":\\\\Snake Valley Water\\\\Transducer Data\\\\Raw_data_archive\\\\pw19baro.csv\",index_col='DateTime',parse_dates=True)"
   ]
  },
  {
   "cell_type": "code",
   "execution_count": null,
   "metadata": {
    "collapsed": false
   },
   "outputs": [],
   "source": [
    "pw03baro['pw03'] = pw03baro['Level']\n",
    "pw03baro = svdi.hourly_resample(pw03baro['pw03'].to_frame())\n",
    "pw10baro['pw10'] = pw10baro['Level']\n",
    "pw10baro = svdi.hourly_resample(pw10baro['pw10'].to_frame())\n",
    "pw19baro['pw19'] = pw19baro['Level']\n",
    "pw19baro = svdi.hourly_resample(pw19baro['pw19'].to_frame())"
   ]
  },
  {
   "cell_type": "code",
   "execution_count": null,
   "metadata": {
    "collapsed": false
   },
   "outputs": [],
   "source": [
    "baro = pd.merge(pw03baro,pw10baro,how=\"outer\",left_index=True,right_index=True)\n",
    "baro = pd.merge(baro,pw19baro,how=\"outer\",left_index=True,right_index=True)\n",
    "baro.dropna(axis=0,inplace=True)\n",
    "baro['integr'] = 0 #for vented transducers\n",
    "baro[baro.index.to_datetime()==pd.datetime(2015,3,4,10)]"
   ]
  },
  {
   "cell_type": "code",
   "execution_count": null,
   "metadata": {
    "collapsed": false
   },
   "outputs": [],
   "source": [
    "baro[['pw03','pw10','pw19']].plot()"
   ]
  },
  {
   "cell_type": "code",
   "execution_count": null,
   "metadata": {
    "collapsed": false
   },
   "outputs": [],
   "source": [
    "infile = Drive + \":\\\\Snake Valley Water\\\\Transducer Data\\\\Raw_data_archive\\\\2015\\\\2015 q2\\\\\"\n",
    "pathlist = os.path.splitext(infile)[0].split('\\\\')\n",
    "baro.to_csv(pathlist[0] + '\\\\' + pathlist[1] + '\\\\' + pathlist[2] + '\\\\' + pathlist[3] + '\\\\' + pathlist[4] + '\\\\' + 'baro' + '.csv')"
   ]
  },
  {
   "cell_type": "markdown",
   "metadata": {},
   "source": [
    "## Water Level Tranducer Data"
   ]
  },
  {
   "cell_type": "markdown",
   "metadata": {},
   "source": [
    "### Export and Plot Data"
   ]
  },
  {
   "cell_type": "markdown",
   "metadata": {},
   "source": [
    "#### Export Manual Data"
   ]
  },
  {
   "cell_type": "code",
   "execution_count": null,
   "metadata": {
    "collapsed": false
   },
   "outputs": [],
   "source": [
    "print wellinfo\n",
    "manualrecent = manual[manual.index.to_datetime() > pd.datetime(2015,6,1)]\n",
    "manualrecent.dropna(inplace=True)\n",
    "manualrecent.reset_index(inplace=True)\n",
    "print manualrecent.dtypes\n",
    "manualrecent = pd.merge(manualrecent, wellinfo, how='left',left_on='WellID', right_index=True)\n",
    "manualrecent.loc[:,\"MeasuredLevel\"] = np.nan\n",
    "manualrecent.loc[:,\"Temp\"] = np.nan\n",
    "manualrecent.loc[:,\"BaroEfficiencyCorrected\"] = np.nan \n",
    "manualrecent.loc[:,\"DeltaLevel\"] = np.nan\n",
    "manualrecent.loc[:,\"DriftCorrection\"] = np.nan\n",
    "manualrecent.loc[:,\"MeasuredBy\"] = np.nan\n",
    "manualrecent.loc[:,\"Tape\"] = 1\n",
    "manualrecent.loc[:,\"DTWBelowGroundSurface\"] = np.nan\n",
    "manualrecent.loc[:,\"WaterElevation\"] = np.nan\n",
    "#manualrecent[\"DTWBelowGroundSurface\"] = np.nan\n",
    "manualrecent.loc[:,\"DTWBelowCasing\"] = manualrecent.loc[:,\"MeasuredDTW\"]\n",
    "manualrecent.loc[:,\"DTWBelowGroundSurface\"] = manualrecent.loc[:,\"MeasuredDTW\"] - manualrecent.loc[:,\"Offset\"]\n",
    "manualrecent.loc[:,\"WaterElevation\"] = manualrecent.loc[:,'GroundElevation'] - manualrecent.loc[:,\"DTWBelowGroundSurface\"]\n",
    "print manualrecent\n",
    "\n",
    "outpath = pathlist[0] + '\\\\' + pathlist[1] + '\\\\' + pathlist[2] + '\\\\' + pathlist[3] + '\\\\' + pathlist[4] + '\\\\' + 'Manual' + '.csv'  \n",
    "manualrecent.to_csv(outpath, index=True, columns= [\"WellID\",\"DateTime\",\"MeasuredLevel\",\"Temp\",\"BaroEfficiencyCorrected\",\"DeltaLevel\",\n",
    "                                             \"MeasuredDTW\",\"DriftCorrection\",\"DTWBelowCasing\",\"DTWBelowGroundSurface\",\n",
    "                                             \"WaterElevation\",\"Tape\",\"MeasuredBy\"])"
   ]
  },
  {
   "cell_type": "code",
   "execution_count": null,
   "metadata": {
    "collapsed": false
   },
   "outputs": [],
   "source": [
    "manual['DateTime'] = manual.index.to_datetime()\n",
    "manual.to_csv(outpath, index=False, columns= [\"WellID\",\"DateTime\",\"MeasuredLevel\",\"Temp\",\"BaroEfficiencyCorrected\",\"DeltaLevel\",\n",
    "                                             \"MeasuredDTW\",\"DriftCorrection\",\"DTWBelowCasing\",\"DTWBelowGroundSurface\",\n",
    "                                             \"WaterElevation\",\"Tape\",\"MeasuredBy\"])"
   ]
  },
  {
   "cell_type": "markdown",
   "metadata": {},
   "source": [
    "#### List Files to Export"
   ]
  },
  {
   "cell_type": "code",
   "execution_count": null,
   "metadata": {
    "collapsed": false
   },
   "outputs": [],
   "source": [
    "wellinfo.to_csv(folder+'\\\\'+\"wellinfo3.csv\")"
   ]
  },
  {
   "cell_type": "markdown",
   "metadata": {},
   "source": [
    "#### Import All Files"
   ]
  },
  {
   "cell_type": "code",
   "execution_count": null,
   "metadata": {
    "collapsed": false
   },
   "outputs": [],
   "source": [
    "pdf_pages = PdfPages(folder+'wells.pdf')\n",
    "print wellinfo.loc[:,'full_file_name']\n",
    "for i in wellinfo.loc[:,'full_file_name']:\n",
    "    print folder+i\n",
    "    g = svdi.imp_new_well(folder+i, wellinfo, manual, baro)\n",
    "    glist = g.columns.tolist()\n",
    "    for j in range(len(glist)):\n",
    "        if 'pw' in glist[j]:\n",
    "            h = glist[j]\n",
    "    y1 = g['WaterElevation'].values\n",
    "    y2 = g[h].values\n",
    "    x1 = g['DateTime'].values\n",
    "    wellname, wellid = svdi.getwellid(folder+'\\\\'+i,wellinfo)\n",
    "    ylast = wellinfo[wellinfo['WellID']==wellid]['GroundElevation'].values[0] + wellinfo[wellinfo['WellID']==wellid]['Offset'].values[0] - fcl(manual[manual['WellID']== wellid],max(g.index.to_datetime()))[1]\n",
    "    yfirst = wellinfo[wellinfo['WellID']==wellid]['GroundElevation'].values[0] + wellinfo[wellinfo['WellID']==wellid]['Offset'].values[0] - fcl(manual[manual['WellID']== wellid],min(g.index.to_datetime()))[1]\n",
    "    xlast = (svdi.fcl(manual[manual['WellID']== wellid],max(g.index.to_datetime()))).name.to_datetime()\n",
    "    xfirst = (svdi.fcl(manual[manual['WellID']== wellid],min(g.index.to_datetime()))).name.to_datetime()\n",
    "    x4 = [xfirst,xlast]\n",
    "    y4 = [yfirst,ylast]\n",
    "    fig, ax1 = plt.subplots()\n",
    "    ax1.scatter(x4,y4,color='purple')\n",
    "    ax1.plot(x1,y1,color='blue',label='Water Level Elevation')\n",
    "    ax1.set_ylabel('Water Level Elevation',color='blue')\n",
    "    y_formatter = tick.ScalarFormatter(useOffset=False)\n",
    "    ax1.yaxis.set_major_formatter(y_formatter)\n",
    "    ax2 = ax1.twinx()\n",
    "    ax2.set_ylabel('Barometric Pressure (ft)', color='red') \n",
    "    ax2.plot(x1,y2,color='red',label='Barometric pressure (ft)')\n",
    "    h1, l1 = ax1.get_legend_handles_labels()\n",
    "    h2, l2 = ax2.get_legend_handles_labels()\n",
    "    ax1.legend(h1+h2, l1+l2, loc=3)\n",
    "    \n",
    "    plt.title('Well: ' + wellname.title() + '  ' + 'Total Drift = ' + str(g['DriftCorrection'][-1]))\n",
    "    pdf_pages.savefig(fig)\n",
    "    fig.close()\n",
    "pdf_pages.close()"
   ]
  },
  {
   "cell_type": "markdown",
   "metadata": {},
   "source": [
    "#### Import One File"
   ]
  },
  {
   "cell_type": "code",
   "execution_count": null,
   "metadata": {
    "collapsed": false
   },
   "outputs": [],
   "source": [
    "inputfile = \"E:\\\\Snake Valley Water\\\\Transducer Data\\\\Raw_data_archive\\\\2015\\\\2015 q1\\\\sg22b 2015-03-05.xle\"\n",
    "\n",
    "g = svdi.imp_new_well(inputfile, wellinfo, manual)\n",
    "glist = g.columns.tolist()\n",
    "for j in range(len(glist)):\n",
    "        if 'pw' in glist[j]:\n",
    "            h = glist[j]\n",
    "y1 = g['WaterElevation'].values\n",
    "y2 = g[h].values\n",
    "x1 = g['DateTime'].values\n",
    "\n",
    "wellname, wellid = getwellid(inputfile)\n",
    "ylast = wellinfo[wellinfo['WellID']==wellid]['GroundElevation'].values[0] + wellinfo[wellinfo['WellID']==wellid]['Offset'].values[0] - fcl(manual[manual['WellID']== wellid],max(g.index.to_datetime()))[1]\n",
    "yfirst = wellinfo[wellinfo['WellID']==wellid]['GroundElevation'].values[0] + wellinfo[wellinfo['WellID']==wellid]['Offset'].values[0] - fcl(manual[manual['WellID']== wellid],min(g.index.to_datetime()))[1]\n",
    "xlast = (svdi.fcl(manual[manual['WellID']== wellid],max(g.index.to_datetime()))).name.to_datetime()\n",
    "xfirst = (svdi.fcl(manual[manual['WellID']== wellid],min(g.index.to_datetime()))).name.to_datetime()\n",
    "x4 = [xfirst,xlast]\n",
    "y4 = [yfirst,ylast]\n",
    "\n",
    "fig, ax1 = plt.subplots()\n",
    "ax1.scatter(x4,y4,color='purple')\n",
    "ax1.plot(x1,y1,color='red')\n",
    "y_formatter = tick.ScalarFormatter(useOffset=False)\n",
    "ax1.yaxis.set_major_formatter(y_formatter)\n",
    "ax2 = ax1.twinx()\n",
    "ax2.plot(x1,y2,color='blue')\n",
    "plt.title(svdi.getfilename(inputfile)+'  '+str(g['DriftCorrection'][-1]))\n",
    "plt.show()"
   ]
  },
  {
   "cell_type": "markdown",
   "metadata": {},
   "source": [
    "### Combine Output"
   ]
  },
  {
   "cell_type": "code",
   "execution_count": null,
   "metadata": {
    "collapsed": false
   },
   "outputs": [],
   "source": [
    "q = {}\n",
    "\n",
    "for i in wellinfo.loc[:,'full_file_name']:\n",
    "    wellname, wellid = getwellid(folder+'\\\\'+i)\n",
    "    q[wellname] = imp_new_well(folder+'\\\\'+i, wellinfo, manual)\n"
   ]
  },
  {
   "cell_type": "code",
   "execution_count": null,
   "metadata": {
    "collapsed": false
   },
   "outputs": [],
   "source": [
    "q.names.to_list()"
   ]
  },
  {
   "cell_type": "code",
   "execution_count": null,
   "metadata": {
    "collapsed": false
   },
   "outputs": [],
   "source": [
    "alldf = ag13a.append(q)\n",
    "outpath = pathlist[0] + '\\\\' + pathlist[1] + '\\\\' + pathlist[2] + '\\\\' + pathlist[3] + '\\\\' + pathlist[4] + '\\\\' + 'all' + '.csv'\n",
    "alldf.to_csv(outpath, index=False, columns= [\"WellID\",\"DateTime\",\"MeasuredLevel\",\"Temp\",\"BaroEfficiencyCorrected\",\"DeltaLevel\",\n",
    "                                             \"MeasuredDTW\",\"DriftCorrection\",\"DTWBelowCasing\",\"DTWBelowGroundSurface\",\n",
    "                                             \"WaterElevation\",\"Tape\",\"MeasuredBy\"])"
   ]
  },
  {
   "cell_type": "code",
   "execution_count": null,
   "metadata": {
    "collapsed": false
   },
   "outputs": [],
   "source": [
    "dailyavgfiles = r\"U:\\GWP\\Snake Valley Water\\Transducer Data\\Individual Sites\\Daily Averages\""
   ]
  },
  {
   "cell_type": "code",
   "execution_count": null,
   "metadata": {
    "collapsed": false
   },
   "outputs": [],
   "source": [
    "well = r\"U:\\GWP\\Snake Valley Water\\Transducer Data\\Individual Sites\\Daily Averages\\ag13b.xlsx\""
   ]
  },
  {
   "cell_type": "code",
   "execution_count": null,
   "metadata": {
    "collapsed": false
   },
   "outputs": [],
   "source": [
    "hourly = pd.read_excel(well,'input',parse_dates=True,index_col='DateTime')\n",
    "hwl = hourly[\"WaterElevation\"].resample('D',how='mean')\n",
    "hwl = hwl.interpolate(how='Time')\n",
    "hwl.plot()"
   ]
  },
  {
   "cell_type": "code",
   "execution_count": null,
   "metadata": {
    "collapsed": false
   },
   "outputs": [],
   "source": []
  }
 ],
 "metadata": {
  "kernelspec": {
   "display_name": "Python 2",
   "language": "python",
   "name": "python2"
  },
  "language_info": {
   "codemirror_mode": {
    "name": "ipython",
    "version": 2
   },
   "file_extension": ".py",
   "mimetype": "text/x-python",
   "name": "python",
   "nbconvert_exporter": "python",
   "pygments_lexer": "ipython2",
   "version": "2.7.8"
  }
 },
 "nbformat": 4,
 "nbformat_minor": 0
}
